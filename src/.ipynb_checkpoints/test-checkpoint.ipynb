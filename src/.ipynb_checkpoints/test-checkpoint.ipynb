{
 "cells": [
  {
   "cell_type": "code",
   "execution_count": 2,
   "metadata": {},
   "outputs": [
    {
     "name": "stdout",
     "output_type": "stream",
     "text": [
      "+-------+----+------+------+---------+---------+-----------+-----------+--------+----------+-----+--------+---+--------+---------+----------+------+---------+\n",
      "|Private|Apps|Accept|Enroll|Top10perc|Top25perc|F_Undergrad|P_Undergrad|Outstate|Room_Board|Books|Personal|PhD|Terminal|S_F_Ratio|perc_alumi|Expend|Grad_Rate|\n",
      "+-------+----+------+------+---------+---------+-----------+-----------+--------+----------+-----+--------+---+--------+---------+----------+------+---------+\n",
      "|    Yes|1660|  1232|   721|       23|       52|       2885|        537|    7440|      3300|  450|    2200| 70|      78|     18.1|        12|  7041|       60|\n",
      "|    Yes|2186|  1924|   512|       16|       29|       2683|       1227|   12280|      6450|  750|    1500| 29|      30|     12.2|        16| 10527|       56|\n",
      "|    Yes|1428|  1097|   336|       22|       50|       1036|         99|   11250|      3750|  400|    1165| 53|      66|     12.9|        30|  8735|       54|\n",
      "|    Yes| 417|   349|   137|       60|       89|        510|         63|   12960|      5450|  450|     875| 92|      97|      7.7|        37| 19016|       59|\n",
      "|    Yes| 193|   146|    55|       16|       44|        249|        869|    7560|      4120|  800|    1500| 76|      72|     11.9|         2| 10922|       15|\n",
      "|    Yes| 587|   479|   158|       38|       62|        678|         41|   13500|      3335|  500|     675| 67|      73|      9.4|        11|  9727|       55|\n",
      "|    Yes| 353|   340|   103|       17|       45|        416|        230|   13290|      5720|  500|    1500| 90|      93|     11.5|        26|  8861|       63|\n",
      "|    Yes|1899|  1720|   489|       37|       68|       1594|         32|   13868|      4826|  450|     850| 89|     100|     13.7|        37| 11487|       73|\n",
      "|    Yes|1038|   839|   227|       30|       63|        973|        306|   15595|      4400|  300|     500| 79|      84|     11.3|        23| 11644|       80|\n",
      "|    Yes| 582|   498|   172|       21|       44|        799|         78|   10468|      3380|  660|    1800| 40|      41|     11.5|        15|  8991|       52|\n",
      "|    Yes|1732|  1425|   472|       37|       75|       1830|        110|   16548|      5406|  500|     600| 82|      88|     11.3|        31| 10932|       73|\n",
      "|    Yes|2652|  1900|   484|       44|       77|       1707|         44|   17080|      4440|  400|     600| 73|      91|      9.9|        41| 11711|       76|\n",
      "|    Yes|1179|   780|   290|       38|       64|       1130|        638|    9690|      4785|  600|    1000| 60|      84|     13.3|        21|  7940|       74|\n",
      "|    Yes|1267|  1080|   385|       44|       73|       1306|         28|   12572|      4552|  400|     400| 79|      87|     15.3|        32|  9305|       68|\n",
      "|    Yes| 494|   313|   157|       23|       46|       1317|       1235|    8352|      3640|  650|    2449| 36|      69|     11.1|        26|  8127|       55|\n",
      "|    Yes|1420|  1093|   220|        9|       22|       1018|        287|    8700|      4780|  450|    1400| 78|      84|     14.7|        19|  7355|       69|\n",
      "|    Yes|4302|   992|   418|       83|       96|       1593|          5|   19760|      5300|  660|    1598| 93|      98|      8.4|        63| 21424|      100|\n",
      "|    Yes|1216|   908|   423|       19|       40|       1819|        281|   10100|      3520|  550|    1100| 48|      61|     12.1|        14|  7994|       59|\n",
      "|    Yes|1130|   704|   322|       14|       23|       1586|        326|    9996|      3090|  900|    1320| 62|      66|     11.5|        18| 10908|       46|\n",
      "|     No|3540|  2001|  1016|       24|       54|       4190|       1512|    5130|      3592|  500|    2000| 60|      62|     23.1|         5|  4010|       34|\n",
      "+-------+----+------+------+---------+---------+-----------+-----------+--------+----------+-----+--------+---+--------+---------+----------+------+---------+\n",
      "only showing top 20 rows\n",
      "\n"
     ]
    }
   ],
   "source": [
    "import findspark\n",
    "findspark.init('/home/ubuntu/spark-2.1.1-bin-hadoop2.7')\n",
    "\n",
    "from pyspark.ml.feature import MinMaxScaler\n",
    "from pyspark.ml.feature import VectorAssembler\n",
    "import pyspark\n",
    "import pandas as pd\n",
    "from pyspark.sql import *\n",
    "from pyspark.sql.functions import *\n",
    "spark = SparkSession.builder.appName('Data_Transforme').getOrCreate()\n",
    "from pyspark.ml.classification import LogisticRegression\n",
    "from pyspark.sql.types import StructType, StructField, IntegerType\n",
    "import numpy as np\n",
    "from pyspark.sql import functions as F\n",
    "\n",
    "\n",
    "\n",
    "\n",
    "pandasDF = pd.read_csv('/home/ubuntu/BDAS_yang124/Datasets/College.csv')\n",
    "sparkDF = spark.createDataFrame(pandasDF)\n",
    "df = sparkDF.selectExpr(\n",
    " 'Private',\n",
    " 'Apps',\n",
    " 'Accept',\n",
    " 'Enroll',\n",
    " 'Top10perc',\n",
    " 'Top25perc',\n",
    " \"`F.Undergrad` as F_Undergrad\",\n",
    " \"`P.Undergrad` as P_Undergrad\",\n",
    " 'Outstate',\n",
    " \"`Room.Board` as Room_Board\",\n",
    " 'Books',\n",
    " 'Personal',\n",
    " 'PhD',\n",
    " 'Terminal',\n",
    " \"`S.F.Ratio` as S_F_Ratio\",\n",
    " \"`perc.alumni` as perc_alumi\",\n",
    " 'Expend',\n",
    "\"`Grad.Rate` as Grad_Rate\" )\n",
    "df.show(8)\n",
    "# df.withColumn('Id_New',when(df.Rank <= 5,df.Id).otherwise('other')).drop(df.Id).select(col('Id_New').alias('Id'),col('Rank')).show()"
   ]
  },
  {
   "cell_type": "code",
   "execution_count": 16,
   "metadata": {},
   "outputs": [
    {
     "name": "stdout",
     "output_type": "stream",
     "text": [
      "[ 4.40671925  4.47046139  4.53420353  4.59794567  4.66168782  4.72542996\n",
      "  4.7891721   4.85291424  4.91665639  4.98039853  5.04414067  5.10788282\n",
      "  5.17162496  5.2353671   5.29910924  5.36285139  5.42659353  5.49033567\n",
      "  5.55407781  5.61781996  5.6815621   5.74530424  5.80904638  5.87278853\n",
      "  5.93653067  6.00027281  6.06401495  6.1277571   6.19149924  6.25524138\n",
      "  6.31898352  6.38272567  6.44646781  6.51020995  6.57395209  6.63769424\n",
      "  6.70143638  6.76517852  6.82892066  6.89266281  6.95640495  7.02014709\n",
      "  7.08388923  7.14763138  7.21137352  7.27511566  7.3388578   7.40259995\n",
      "  7.46634209  7.53008423  7.59382637  7.65756852  7.72131066  7.7850528\n",
      "  7.84879494  7.91253709  7.97627923  8.04002137  8.10376351  8.16750566\n",
      "  8.2312478   8.29498994  8.35873208  8.42247423  8.48621637  8.54995851\n",
      "  8.61370065  8.6774428   8.74118494  8.80492708  8.86866922  8.93241137\n",
      "  8.99615351  9.05989565  9.12363779  9.18737994  9.25112208  9.31486422\n",
      "  9.37860636  9.44234851  9.50609065  9.56983279  9.63357493  9.69731708\n",
      "  9.76105922  9.82480136  9.88854351  9.95228565 10.01602779 10.07976993\n",
      " 10.14351208 10.20725422 10.27099636 10.3347385  10.39848065 10.46222279\n",
      " 10.52596493 10.58970707 10.65344922 10.71719136 10.7809335 ]\n"
     ]
    },
    {
     "name": "stderr",
     "output_type": "stream",
     "text": [
      "/home/ubuntu/.local/lib/python3.5/site-packages/ipykernel_launcher.py:14: MatplotlibDeprecationWarning: scipy.stats.norm.pdf\n",
      "  \n"
     ]
    },
    {
     "data": {
      "image/png": "[encoded data removed]",
      "text/plain": [
       "<Figure size 432x288 with 1 Axes>"
      ]
     },
     "metadata": {},
     "output_type": "display_data"
    }
   ],
   "source": [
    "import numpy as np\n",
    "import matplotlib.mlab as mlab\n",
    "import matplotlib.pyplot as plt\n",
    "\n",
    "\n",
    "\n",
    "def demo2(feature_name):\n",
    "    mu, sigma , num_bins = 0, 1,100\n",
    "    x = mu + sigma * df.select(feature_name).toPandas()[feature_name]\n",
    "\n",
    "    n, bins, patches = plt.hist(x, num_bins, density=True, facecolor = 'blue', alpha = 0.5)\n",
    " \n",
    "    y = mlab.normpdf(bins, mu, sigma)\n",
    "    plt.plot(bins, y, 'r--')\n",
    "    plt.xlabel(feature_name + 'Expectation')\n",
    "    plt.ylabel(feature_name + 'Probability')\n",
    "    plt.title('histogram of normal distribution: $\\mu = 0$, $\\sigma=1$')\n",
    "\n",
    "    plt.subplots_adjust(left = 0.15)\n",
    "    plt.show()\n",
    "\n",
    "demo2('Apps')"
   ]
  },
  {
   "cell_type": "code",
   "execution_count": null,
   "metadata": {},
   "outputs": [],
   "source": []
  }
 ],
 "metadata": {
  "kernelspec": {
   "display_name": "Python 3",
   "language": "python",
   "name": "python3"
  },
  "language_info": {
   "codemirror_mode": {
    "name": "ipython",
    "version": 3
   },
   "file_extension": ".py",
   "mimetype": "text/x-python",
   "name": "python",
   "nbconvert_exporter": "python",
   "pygments_lexer": "ipython3",
   "version": "3.5.2"
  }
 },
 "nbformat": 4,
 "nbformat_minor": 2
}
