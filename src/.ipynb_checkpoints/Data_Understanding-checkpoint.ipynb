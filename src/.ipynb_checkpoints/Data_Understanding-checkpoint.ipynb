{
 "cells": [
  {
   "cell_type": "markdown",
   "metadata": {},
   "source": [
    "## 2 Data Understanding\n",
    "### 2.3.1 Preparation before exploring data\n"
   ]
  },
  {
   "cell_type": "code",
   "execution_count": 1,
   "metadata": {},
   "outputs": [],
   "source": [
    "# !python install imbalanced-learn\n",
    "import findspark\n",
    "findspark.init('/home/ubuntu/spark-2.1.1-bin-hadoop2.7')\n",
    "import pyspark\n",
    "import pandas as pd\n",
    "from pyspark.sql import *\n",
    "spark = SparkSession.builder.appName('Data_Understanding').getOrCreate()\n",
    "from pyspark.ml.classification import LogisticRegression\n",
    "from pyspark.sql.types import StructType, StructField, IntegerType"
   ]
  },
  {
   "cell_type": "markdown",
   "metadata": {},
   "source": [
    "read data from datasource"
   ]
  },
  {
   "cell_type": "code",
   "execution_count": 2,
   "metadata": {},
   "outputs": [],
   "source": [
    "pandasDF = pd.read_csv('/home/ubuntu/BDAS_yang124/Datasets/College.csv')\n",
    "sparkDF = spark.createDataFrame(pandasDF)"
   ]
  },
  {
   "cell_type": "markdown",
   "metadata": {},
   "source": [
    "查看数据的整体情况"
   ]
  },
  {
   "cell_type": "code",
   "execution_count": 3,
   "metadata": {},
   "outputs": [
    {
     "name": "stdout",
     "output_type": "stream",
     "text": [
      "root\n",
      " |-- CN: string (nullable = true)\n",
      " |-- Private: string (nullable = true)\n",
      " |-- Apps: long (nullable = true)\n",
      " |-- Accept: long (nullable = true)\n",
      " |-- Enroll: long (nullable = true)\n",
      " |-- Top10perc: long (nullable = true)\n",
      " |-- Top25perc: long (nullable = true)\n",
      " |-- F.Undergrad: long (nullable = true)\n",
      " |-- P.Undergrad: long (nullable = true)\n",
      " |-- Outstate: long (nullable = true)\n",
      " |-- Room.Board: long (nullable = true)\n",
      " |-- Books: long (nullable = true)\n",
      " |-- Personal: long (nullable = true)\n",
      " |-- PhD: long (nullable = true)\n",
      " |-- Terminal: long (nullable = true)\n",
      " |-- S.F.Ratio: double (nullable = true)\n",
      " |-- perc.alumni: long (nullable = true)\n",
      " |-- Expend: long (nullable = true)\n",
      " |-- Grad.Rate: long (nullable = true)\n",
      "\n",
      "+--------------------+-------+----+------+------+---------+---------+-----------+-----------+--------+----------+-----+--------+---+--------+---------+-----------+------+---------+\n",
      "|                  CN|Private|Apps|Accept|Enroll|Top10perc|Top25perc|F.Undergrad|P.Undergrad|Outstate|Room.Board|Books|Personal|PhD|Terminal|S.F.Ratio|perc.alumni|Expend|Grad.Rate|\n",
      "+--------------------+-------+----+------+------+---------+---------+-----------+-----------+--------+----------+-----+--------+---+--------+---------+-----------+------+---------+\n",
      "|Abilene Christian...|    Yes|1660|  1232|   721|       23|       52|       2885|        537|    7440|      3300|  450|    2200| 70|      78|     18.1|         12|  7041|       60|\n",
      "|  Adelphi University|    Yes|2186|  1924|   512|       16|       29|       2683|       1227|   12280|      6450|  750|    1500| 29|      30|     12.2|         16| 10527|       56|\n",
      "|      Adrian College|    Yes|1428|  1097|   336|       22|       50|       1036|         99|   11250|      3750|  400|    1165| 53|      66|     12.9|         30|  8735|       54|\n",
      "| Agnes Scott College|    Yes| 417|   349|   137|       60|       89|        510|         63|   12960|      5450|  450|     875| 92|      97|      7.7|         37| 19016|       59|\n",
      "|Alaska Pacific Un...|    Yes| 193|   146|    55|       16|       44|        249|        869|    7560|      4120|  800|    1500| 76|      72|     11.9|          2| 10922|       15|\n",
      "|   Albertson College|    Yes| 587|   479|   158|       38|       62|        678|         41|   13500|      3335|  500|     675| 67|      73|      9.4|         11|  9727|       55|\n",
      "|Albertus Magnus C...|    Yes| 353|   340|   103|       17|       45|        416|        230|   13290|      5720|  500|    1500| 90|      93|     11.5|         26|  8861|       63|\n",
      "|      Albion College|    Yes|1899|  1720|   489|       37|       68|       1594|         32|   13868|      4826|  450|     850| 89|     100|     13.7|         37| 11487|       73|\n",
      "+--------------------+-------+----+------+------+---------+---------+-----------+-----------+--------+----------+-----+--------+---+--------+---------+-----------+------+---------+\n",
      "only showing top 8 rows\n",
      "\n"
     ]
    },
    {
     "data": {
      "text/plain": [
       "['CN',\n",
       " 'Private',\n",
       " 'Apps',\n",
       " 'Accept',\n",
       " 'Enroll',\n",
       " 'Top10perc',\n",
       " 'Top25perc',\n",
       " 'F.Undergrad',\n",
       " 'P.Undergrad',\n",
       " 'Outstate',\n",
       " 'Room.Board',\n",
       " 'Books',\n",
       " 'Personal',\n",
       " 'PhD',\n",
       " 'Terminal',\n",
       " 'S.F.Ratio',\n",
       " 'perc.alumni',\n",
       " 'Expend',\n",
       " 'Grad.Rate']"
      ]
     },
     "execution_count": 3,
     "metadata": {},
     "output_type": "execute_result"
    }
   ],
   "source": [
    "sparkDF.printSchema()\n",
    "sparkDF.show(8)\n",
    "sparkDF.columns"
   ]
  },
  {
   "cell_type": "markdown",
   "metadata": {},
   "source": [
    "因为CN字段不具备分析特性所以去除掉"
   ]
  },
  {
   "cell_type": "code",
   "execution_count": 6,
   "metadata": {},
   "outputs": [],
   "source": [
    "remove_cn_DF = sparkDF.selectExpr(\n",
    " 'Private',\n",
    " 'Apps',\n",
    " 'Accept',\n",
    " 'Enroll',\n",
    " 'Top10perc',\n",
    " 'Top25perc',\n",
    " \"`F.Undergrad` as F_Undergrad\",\n",
    " \"`P.Undergrad` as P_Undergrad\",\n",
    " 'Outstate',\n",
    " \"`Room.Board` as Room_Board\",\n",
    " 'Books',\n",
    " 'Personal',\n",
    " 'PhD',\n",
    " 'Terminal',\n",
    " \"`S.F.Ratio` as S_F_Ratio\",\n",
    " \"`perc.alumni` as perc_alumi\",\n",
    " 'Expend',\n",
    "\"`Grad.Rate` as Grad_Rate\" )\n",
    "pandas_cols=[\n",
    "    'CN',\n",
    "    'Private',\n",
    "    'Apps',\n",
    " 'Accept',\n",
    " 'Enroll',\n",
    " 'Top10perc',\n",
    " 'Top25perc',\n",
    " 'F_Undergrad',\n",
    " 'P_Undergrad',\n",
    " 'Outstate',\n",
    " 'Room_Board',\n",
    " 'Books',\n",
    " 'Personal',\n",
    " 'PhD',\n",
    " 'Terminal',\n",
    " 'S_F_Ratio',\n",
    " 'perc_alumi',\n",
    " 'Expend',\n",
    " 'Grad_Rate']\n",
    "pandasDF.columns = pandas_cols\n"
   ]
  },
  {
   "cell_type": "code",
   "execution_count": 7,
   "metadata": {},
   "outputs": [
    {
     "name": "stdout",
     "output_type": "stream",
     "text": [
      "root\n",
      " |-- Private: string (nullable = true)\n",
      " |-- Apps: long (nullable = true)\n",
      " |-- Accept: long (nullable = true)\n",
      " |-- Enroll: long (nullable = true)\n",
      " |-- Top10perc: long (nullable = true)\n",
      " |-- Top25perc: long (nullable = true)\n",
      " |-- F_Undergrad: long (nullable = true)\n",
      " |-- P_Undergrad: long (nullable = true)\n",
      " |-- Outstate: long (nullable = true)\n",
      " |-- Room_Board: long (nullable = true)\n",
      " |-- Books: long (nullable = true)\n",
      " |-- Personal: long (nullable = true)\n",
      " |-- PhD: long (nullable = true)\n",
      " |-- Terminal: long (nullable = true)\n",
      " |-- S_F_Ratio: double (nullable = true)\n",
      " |-- perc_alumi: long (nullable = true)\n",
      " |-- Expend: long (nullable = true)\n",
      " |-- Grad_Rate: long (nullable = true)\n",
      "\n",
      "+-------+-------+------------------+------------------+----------------+------------------+------------------+-----------------+-----------------+------------------+------------------+------------------+------------------+------------------+------------------+------------------+------------------+----------------+------------------+\n",
      "|summary|Private|              Apps|            Accept|          Enroll|         Top10perc|         Top25perc|      F_Undergrad|      P_Undergrad|          Outstate|        Room_Board|             Books|          Personal|               PhD|          Terminal|         S_F_Ratio|        perc_alumi|          Expend|         Grad_Rate|\n",
      "+-------+-------+------------------+------------------+----------------+------------------+------------------+-----------------+-----------------+------------------+------------------+------------------+------------------+------------------+------------------+------------------+------------------+----------------+------------------+\n",
      "|  count|    777|               777|               777|             777|               777|               777|              777|              777|               777|               777|               777|               777|               777|               777|               777|               777|             777|               777|\n",
      "|   mean|   null|3001.6383526383524|2018.8043758043757|779.972972972973| 27.55855855855856|  55.7966537966538|3699.907335907336|855.2985842985843| 10440.66924066924| 4357.526383526383| 549.3809523809524|1340.6422136422136| 72.66023166023166| 79.70270270270271|14.089703989703986|22.743886743886744|9660.17117117117| 65.46332046332046|\n",
      "| stddev|   null|3870.2014844352884|  2451.11397099263| 929.17619013287|17.640364385452134|19.804777595131373|4850.420530887386|1522.431887295513|4023.0164841119727|1096.6964155935289|165.10536013709253|  677.071453590578|16.328154687939314|14.722358527903374|3.9583491352055478| 12.39180148937615|5221.76843985609|17.177709897155403|\n",
      "|    min|     No|                81|                72|              35|                 1|                 9|              139|                1|              2340|              1780|                96|               250|                 8|                24|               2.5|                 0|            3186|                10|\n",
      "|    max|    Yes|             48094|             26330|            6392|                96|               100|            31643|            21836|             21700|              8124|              2340|              6800|               103|               100|              39.8|                64|           56233|               118|\n",
      "+-------+-------+------------------+------------------+----------------+------------------+------------------+-----------------+-----------------+------------------+------------------+------------------+------------------+------------------+------------------+------------------+------------------+----------------+------------------+\n",
      "\n",
      "+-------+----+------+------+---------+---------+-----------+-----------+--------+----------+-----+--------+---+--------+---------+----------+------+---------+\n",
      "|Private|Apps|Accept|Enroll|Top10perc|Top25perc|F_Undergrad|P_Undergrad|Outstate|Room_Board|Books|Personal|PhD|Terminal|S_F_Ratio|perc_alumi|Expend|Grad_Rate|\n",
      "+-------+----+------+------+---------+---------+-----------+-----------+--------+----------+-----+--------+---+--------+---------+----------+------+---------+\n",
      "|    Yes|1660|  1232|   721|       23|       52|       2885|        537|    7440|      3300|  450|    2200| 70|      78|     18.1|        12|  7041|       60|\n",
      "|    Yes|2186|  1924|   512|       16|       29|       2683|       1227|   12280|      6450|  750|    1500| 29|      30|     12.2|        16| 10527|       56|\n",
      "|    Yes|1428|  1097|   336|       22|       50|       1036|         99|   11250|      3750|  400|    1165| 53|      66|     12.9|        30|  8735|       54|\n",
      "|    Yes| 417|   349|   137|       60|       89|        510|         63|   12960|      5450|  450|     875| 92|      97|      7.7|        37| 19016|       59|\n",
      "|    Yes| 193|   146|    55|       16|       44|        249|        869|    7560|      4120|  800|    1500| 76|      72|     11.9|         2| 10922|       15|\n",
      "|    Yes| 587|   479|   158|       38|       62|        678|         41|   13500|      3335|  500|     675| 67|      73|      9.4|        11|  9727|       55|\n",
      "|    Yes| 353|   340|   103|       17|       45|        416|        230|   13290|      5720|  500|    1500| 90|      93|     11.5|        26|  8861|       63|\n",
      "|    Yes|1899|  1720|   489|       37|       68|       1594|         32|   13868|      4826|  450|     850| 89|     100|     13.7|        37| 11487|       73|\n",
      "+-------+----+------+------+---------+---------+-----------+-----------+--------+----------+-----+--------+---+--------+---------+----------+------+---------+\n",
      "only showing top 8 rows\n",
      "\n"
     ]
    },
    {
     "data": {
      "text/plain": [
       "['Private',\n",
       " 'Apps',\n",
       " 'Accept',\n",
       " 'Enroll',\n",
       " 'Top10perc',\n",
       " 'Top25perc',\n",
       " 'F_Undergrad',\n",
       " 'P_Undergrad',\n",
       " 'Outstate',\n",
       " 'Room_Board',\n",
       " 'Books',\n",
       " 'Personal',\n",
       " 'PhD',\n",
       " 'Terminal',\n",
       " 'S_F_Ratio',\n",
       " 'perc_alumi',\n",
       " 'Expend',\n",
       " 'Grad_Rate']"
      ]
     },
     "execution_count": 7,
     "metadata": {},
     "output_type": "execute_result"
    }
   ],
   "source": [
    "remove_cn_DF.printSchema()\n",
    "remove_cn_DF.describe().show()\n",
    "remove_cn_DF.show(8)\n",
    "remove_cn_DF.columns"
   ]
  },
  {
   "cell_type": "markdown",
   "metadata": {},
   "source": [
    "对private字段为空的数据删除"
   ]
  },
  {
   "cell_type": "code",
   "execution_count": 8,
   "metadata": {},
   "outputs": [],
   "source": [
    "remove_Null_Private_DF = remove_cn_DF.filter('Private is not null')"
   ]
  },
  {
   "cell_type": "markdown",
   "metadata": {},
   "source": [
    "将private 转换为int类型"
   ]
  },
  {
   "cell_type": "code",
   "execution_count": 9,
   "metadata": {
    "scrolled": true
   },
   "outputs": [],
   "source": [
    "from pyspark.ml.linalg import Vectors\n",
    "from pyspark.ml.feature import VectorAssembler\n",
    "from pyspark.ml.feature import StringIndexer\n",
    "inputCols=['Apps',\n",
    " 'Accept',\n",
    " 'Enroll',\n",
    " 'Top10perc',\n",
    " 'Top25perc',\n",
    " 'F_Undergrad',\n",
    " 'P_Undergrad',\n",
    " 'Outstate',\n",
    " 'Room_Board',\n",
    " 'Books',\n",
    " 'Personal',\n",
    " 'PhD',\n",
    " 'Terminal',\n",
    " 'S_F_Ratio',\n",
    " 'perc_alumi',\n",
    " 'Expend',\n",
    " 'Grad_Rate']\n",
    "assembler = VectorAssembler(\n",
    "  inputCols=inputCols,\n",
    "outputCol=\"features\")\n",
    "output = assembler.transform(remove_Null_Private_DF)\n",
    "indexer = StringIndexer(inputCol=\"Private\", outputCol=\"PrivateIndex\")\n",
    "privateIndex_fixed_DF = indexer.fit(output).transform(output)"
   ]
  },
  {
   "cell_type": "markdown",
   "metadata": {},
   "source": [
    " 数据平衡性检查"
   ]
  },
  {
   "cell_type": "code",
   "execution_count": 10,
   "metadata": {},
   "outputs": [
    {
     "data": {
      "image/png": "[encoded data removed]",
      "text/plain": [
       "<Figure size 432x288 with 1 Axes>"
      ]
     },
     "metadata": {},
     "output_type": "display_data"
    }
   ],
   "source": [
    "import numpy as np\n",
    "import matplotlib.pyplot as plt\n",
    "%matplotlib inline\n",
    "\n",
    "# Convert sex to an array using Numpy and plot it using pyplot. \n",
    "publ = np.array(privateIndex_fixed_DF.select('Private').collect())\n",
    "plt.hist(publ)\n",
    "plt.show()"
   ]
  },
  {
   "cell_type": "markdown",
   "metadata": {},
   "source": [
    "分割数据"
   ]
  },
  {
   "cell_type": "code",
   "execution_count": 11,
   "metadata": {},
   "outputs": [],
   "source": [
    "final_data = privateIndex_fixed_DF.select(\"features\",'PrivateIndex')\n",
    "train_data,test_data = final_data.randomSplit([0.7,0.3])"
   ]
  },
  {
   "cell_type": "markdown",
   "metadata": {},
   "source": [
    "数据基于Private字段进行过采样"
   ]
  },
  {
   "cell_type": "code",
   "execution_count": 13,
   "metadata": {},
   "outputs": [],
   "source": [
    "# import pandas \n",
    "# from imblearn.over_sampling import SMOTE\n",
    "# smo = SMOTE(random_state=42)\n",
    "# columns = output_fixed.columns\n",
    "# pridata=output_fixed.select('PrivateIndex')\n",
    "# X_smo, y_smo = smo.fit_sample(output_fixed, pridata)\n",
    "# x_smote_resampled = pandas.DataFrame(X_smo,columns=columns)\n",
    "# print(x_smote_resampled)\n",
    "# # def getRendomCsvdata(DataDF,pridata):\n",
    "    \n",
    "# #     columns = ['Private','Apps','Accept','Enroll','Top10perc','Top25perc','F.Undergrad','P.Undergrad','Outstate','Room.Board','Books','Personal','PhD','Terminal','S.F.Ratio','perc.alumni','Expend','Grad.Rate']\n",
    " \n",
    "    \n",
    "# #     return x_smote_resampled\n",
    "\n",
    "# # def dataBanlance(DataDF,filename):\n",
    "    \n",
    "# #     DataDF = getRendomCsvdata(DataDF, pridata)\n",
    "# #     DataDF.to_csv(filename,index=None)\n",
    "# #     return DataDF"
   ]
  },
  {
   "cell_type": "markdown",
   "metadata": {},
   "source": [
    "数据的重要性检查"
   ]
  },
  {
   "cell_type": "code",
   "execution_count": 12,
   "metadata": {},
   "outputs": [
    {
     "name": "stdout",
     "output_type": "stream",
     "text": [
      " 1) F_Undergrad                    0.279720\n",
      " 2) Enroll                         0.208128\n",
      " 3) Outstate                       0.161533\n",
      " 4) Room_Board                     0.054118\n",
      " 5) Expend                         0.050237\n",
      " 6) P_Undergrad                    0.040157\n",
      " 7) S_F_Ratio                      0.039481\n",
      " 8) perc_alumi                     0.038348\n",
      " 9) Grad_Rate                      0.037102\n",
      "10) Apps                           0.020262\n",
      "11) Top10perc                      0.018859\n",
      "12) Accept                         0.011325\n",
      "13) PhD                            0.009513\n",
      "14) Personal                       0.009006\n",
      "15) Top25perc                      0.008271\n",
      "16) Books                          0.007573\n",
      "17) Terminal                       0.006367\n"
     ]
    },
    {
     "data": {
      "image/png": "[encoded data removed]",
      "text/plain": [
       "<Figure size 432x288 with 1 Axes>"
      ]
     },
     "metadata": {},
     "output_type": "display_data"
    }
   ],
   "source": [
    "from pyspark.ml.classification import RandomForestClassifier\n",
    "\n",
    "rfc = RandomForestClassifier(labelCol='PrivateIndex',featuresCol='features')\n",
    "rfc_model = rfc.fit(train_data)\n",
    "feature_Importances=rfc_model.featureImportances\n",
    "sort_index=np.argsort(feature_Importances)[::-1]\n",
    "\n",
    "sort_index=sort_index.tolist()\n",
    "for f in sort_index:\n",
    "    print(\"%2d) %-*s %f\" % (sort_index.index(f)+1,30,inputCols[f],feature_Importances[f]))\n",
    "\n",
    "plt.title(\"feature_Importances\")\n",
    "plt.bar(inputCols,\n",
    "       feature_Importances,\n",
    "        color=\"lightblue\",\n",
    "        align=\"center\"\n",
    "       )\n",
    "plt.xticks(range(17),inputCols,rotation='vertical')\n",
    "plt.xlim([-1,17])\n",
    "plt.tight_layout()\n",
    "plt.show()"
   ]
  },
  {
   "cell_type": "markdown",
   "metadata": {},
   "source": [
    "特征的偏差度检查"
   ]
  },
  {
   "cell_type": "code",
   "execution_count": 13,
   "metadata": {},
   "outputs": [
    {
     "name": "stdout",
     "output_type": "stream",
     "text": [
      "            rows classCnt mostClassCnt mostClassRio\n",
      "Apps         777        4          743     0.956242\n",
      "Accept       777        4          734     0.944659\n",
      "Enroll       777        4          677       0.8713\n",
      "Top10perc    777        4          411     0.528958\n",
      "Top25perc    777        4           87     0.111969\n",
      "F_Undergrad  777        4          675     0.868726\n",
      "P_Undergrad  777        4          764     0.983269\n",
      "Outstate     777        4          186     0.239382\n",
      "Room_Board   777        4          140      0.18018\n",
      "Books        777        4          668     0.859717\n",
      "Personal     777        4          633     0.814672\n",
      "PhD          777        4           11     0.014157\n",
      "Terminal     777        4           14     0.018018\n",
      "S_F_Ratio    777        4          225     0.289575\n",
      "perc_alumi   777        4          286     0.368082\n",
      "Expend       777        4          724     0.931789\n",
      "Grad_Rate    777        4           44    0.0566281\n"
     ]
    },
    {
     "data": {
      "text/plain": [
       "<matplotlib.axes._subplots.AxesSubplot at 0x7f4868ca1588>"
      ]
     },
     "execution_count": 13,
     "metadata": {},
     "output_type": "execute_result"
    },
    {
     "data": {
      "image/png": "[encoded data removed]",
      "text/plain": [
       "<Figure size 1152x576 with 1 Axes>"
      ]
     },
     "metadata": {},
     "output_type": "display_data"
    }
   ],
   "source": [
    "# def skewCheck(df,contList,bins):\n",
    "new_DF = pandasDF.drop(['CN','Private'],axis=1)\n",
    "new_df2 = new_DF[pandas_cols[2:len(pandas_cols)]]\n",
    "\n",
    "skewDf2 = pd.DataFrame(index=new_DF.columns.values,columns=['rows','classCnt','mostClassCnt','mostClassRio'])\n",
    "m2,n2 = new_df2.shape\n",
    "for j in range(n2):\n",
    "    ser = new_df2.iloc[:,j]\n",
    "    name = new_df2.columns[j]\n",
    "    freqSer = pd.value_counts(pd.cut(ser,4))\n",
    "    skewDf2.loc[name,'rows'] = m2\n",
    "    skewDf2.loc[name,'classCnt'] = len(freqSer)\n",
    "    skewDf2.loc[name,'mostClassCnt'] = freqSer[0] \n",
    "    skewDf2.loc[name,'mostClassRio'] = freqSer[0] * 1.00 / m2\n",
    "skewDf = pd.concat([skewDf2],axis=0)\n",
    "print(skewDf)\n",
    "skewDf_mostClassRio=skewDf['mostClassRio']\n",
    "skewDf_mostClassRio.plot(kind='bar',figsize=(16,8), color='lightblue')"
   ]
  },
  {
   "cell_type": "code",
   "execution_count": 14,
   "metadata": {},
   "outputs": [
    {
     "data": {
      "text/plain": [
       "<matplotlib.axes._subplots.AxesSubplot at 0x7f4868c54c50>"
      ]
     },
     "execution_count": 14,
     "metadata": {},
     "output_type": "execute_result"
    },
    {
     "data": {
      "image/png": "[encoded data removed]",
      "text/plain": [
       "<Figure size 1152x576 with 1 Axes>"
      ]
     },
     "metadata": {},
     "output_type": "display_data"
    }
   ],
   "source": [
    "skewDf_mostClassCnt=skewDf['mostClassCnt']\n",
    "skewDf_mostClassCnt.plot(kind='bar',figsize=(16,8), color='lightblue')"
   ]
  },
  {
   "cell_type": "markdown",
   "metadata": {},
   "source": [
    "数据的空值检测"
   ]
  },
  {
   "cell_type": "code",
   "execution_count": 15,
   "metadata": {},
   "outputs": [
    {
     "name": "stdout",
     "output_type": "stream",
     "text": [
      "             rows  nullCnt\n",
      "Apps          777        0\n",
      "Accept        777        0\n",
      "Enroll        777        0\n",
      "Top10perc     777        0\n",
      "Top25perc     777        0\n",
      "F_Undergrad   777        0\n",
      "P_Undergrad   777        0\n",
      "Outstate      777        0\n",
      "Room_Board    777        0\n",
      "Books         777        0\n",
      "Personal      777        0\n",
      "PhD           777        0\n",
      "Terminal      777        0\n",
      "S_F_Ratio     777        0\n",
      "perc_alumi    777        0\n",
      "Expend        777        0\n",
      "Grad_Rate     777        0\n"
     ]
    },
    {
     "data": {
      "text/plain": [
       "<matplotlib.axes._subplots.AxesSubplot at 0x7f4868b78748>"
      ]
     },
     "execution_count": 15,
     "metadata": {},
     "output_type": "execute_result"
    },
    {
     "data": {
      "image/png": "[encoded data removed]",
      "text/plain": [
       "<Figure size 576x288 with 1 Axes>"
      ]
     },
     "metadata": {},
     "output_type": "display_data"
    }
   ],
   "source": [
    "m,n = new_DF.shape\n",
    "rowsSer = pd.Series(index=new_DF.columns)\n",
    "rowsSer.name = 'rows'\n",
    "nullCntSer = new_DF.isnull().sum()\n",
    "nullCntSer.name = 'nullCnt'\n",
    "missDf = pd.concat([rowsSer,nullCntSer],axis=1)\n",
    "missDf['rows'] = m\n",
    "print(missDf)\n",
    "missDf['nullCnt'].plot(kind='line',figsize=(8,4),color='blue')"
   ]
  },
  {
   "cell_type": "markdown",
   "metadata": {},
   "source": [
    "数据的重复记录数检测"
   ]
  },
  {
   "cell_type": "code",
   "execution_count": 16,
   "metadata": {},
   "outputs": [
    {
     "name": "stdout",
     "output_type": "stream",
     "text": [
      "             rows  uiqCnt\n",
      "Apps          777     711\n",
      "Accept        777     693\n",
      "Enroll        777     581\n",
      "Top10perc     777      82\n",
      "Top25perc     777      89\n",
      "F_Undergrad   777     714\n",
      "P_Undergrad   777     566\n",
      "Outstate      777     640\n",
      "Room_Board    777     553\n",
      "Books         777     122\n",
      "Personal      777     294\n",
      "PhD           777      78\n",
      "Terminal      777      65\n",
      "S_F_Ratio     777     173\n",
      "perc_alumi    777      61\n",
      "Expend        777     744\n",
      "Grad_Rate     777      81\n"
     ]
    },
    {
     "data": {
      "text/plain": [
       "<matplotlib.axes._subplots.AxesSubplot at 0x7f4868ce39b0>"
      ]
     },
     "execution_count": 16,
     "metadata": {},
     "output_type": "execute_result"
    },
    {
     "data": {
      "image/png": "[encoded data removed]",
      "text/plain": [
       "<Figure size 576x288 with 1 Axes>"
      ]
     },
     "metadata": {},
     "output_type": "display_data"
    }
   ],
   "source": [
    "m,n = new_DF.shape\n",
    "uiqDf = pd.DataFrame(index=new_DF.columns,columns=['rows','uiqCnt'])\n",
    "uiqDf['rows'] = m\n",
    "for j in range(n):\n",
    "    ser = new_DF.iloc[:,j]\n",
    "    name = new_DF.columns[j]\n",
    "    uiqCnt = len(ser.unique())\n",
    "    uiqDf.loc[name, 'uiqCnt'] = uiqCnt\n",
    "print(uiqDf)\n",
    "uiqDf.plot(kind='bar',figsize=(8,4))"
   ]
  },
  {
   "cell_type": "markdown",
   "metadata": {},
   "source": [
    "异常值检测"
   ]
  },
  {
   "cell_type": "code",
   "execution_count": 17,
   "metadata": {},
   "outputs": [
    {
     "name": "stdout",
     "output_type": "stream",
     "text": [
      "                 max     min          mean          std       cov  \\\n",
      "Apps         48094.0    81.0   3001.638353  3870.201484  1.289363   \n",
      "Accept       26330.0    72.0   2018.804376  2451.113971  1.214141   \n",
      "Enroll        6392.0    35.0    779.972973   929.176190  1.191293   \n",
      "Top10perc       96.0     1.0     27.558559    17.640364  0.640105   \n",
      "Top25perc      100.0     9.0     55.796654    19.804778  0.354946   \n",
      "F_Undergrad  31643.0   139.0   3699.907336  4850.420531  1.310957   \n",
      "P_Undergrad  21836.0     1.0    855.298584  1522.431887  1.780000   \n",
      "Outstate     21700.0  2340.0  10440.669241  4023.016484  0.385322   \n",
      "Room_Board    8124.0  1780.0   4357.526384  1096.696416  0.251679   \n",
      "Books         2340.0    96.0    549.380952   165.105360  0.300530   \n",
      "Personal      6800.0   250.0   1340.642214   677.071454  0.505035   \n",
      "PhD            103.0     8.0     72.660232    16.328155  0.224719   \n",
      "Terminal       100.0    24.0     79.702703    14.722359  0.184716   \n",
      "S_F_Ratio       39.8     2.5     14.089704     3.958349  0.280939   \n",
      "perc_alumi      64.0     0.0     22.743887    12.391801  0.544841   \n",
      "Expend       56233.0  3186.0   9660.171171  5221.768440  0.540546   \n",
      "Grad_Rate      118.0    10.0     65.463320    17.177710  0.262402   \n",
      "\n",
      "             above3SegmaCnt  below3SegmaCnt  aboveBoxCnt  belowBoxCnt  \n",
      "Apps                     15               0           70            0  \n",
      "Accept                   18               0           73            0  \n",
      "Enroll                   16               0           79            0  \n",
      "Top10perc                16               0           39            0  \n",
      "Top25perc                 0               0            0            0  \n",
      "F_Undergrad              20               0           97            0  \n",
      "P_Undergrad              14               0           67            0  \n",
      "Outstate                  0               0            1            0  \n",
      "Room_Board                1               0            7            0  \n",
      "Books                    10               0           36           10  \n",
      "Personal                  8               0           20            0  \n",
      "PhD                       0               6            0            8  \n",
      "Terminal                  0               6            0            8  \n",
      "S_F_Ratio                 5               0            8            4  \n",
      "perc_alumi                5               0            5            0  \n",
      "Expend                   16               0           48            0  \n",
      "Grad_Rate                 1               1            1            3  \n"
     ]
    },
    {
     "data": {
      "text/plain": [
       "<matplotlib.axes._subplots.AxesSubplot at 0x7f4868b33160>"
      ]
     },
     "execution_count": 17,
     "metadata": {},
     "output_type": "execute_result"
    },
    {
     "data": {
      "image/png": "[encoded data removed]",
      "text/plain": [
       "<Figure size 576x288 with 1 Axes>"
      ]
     },
     "metadata": {},
     "output_type": "display_data"
    }
   ],
   "source": [
    "\n",
    "resDf = new_df2.describe()\n",
    "resDf.loc['cov'] = resDf.loc['std'] / resDf.loc['mean']   \n",
    "resDf.loc['mean+3std'] = resDf.loc['mean'] + 3 * resDf.loc['std']  \n",
    "resDf.loc['mean-3std'] = resDf.loc['mean'] - 3 * resDf.loc['std'] \n",
    "resDf.loc['75%+1.5dist'] = resDf.loc['75%'] + 1.5 * (resDf.loc['75%'] - resDf.loc['25%'])  \n",
    "resDf.loc['25%-1.5dist'] = resDf.loc['25%'] - 1.5 * (resDf.loc['75%'] - resDf.loc['25%'])  \n",
    "\n",
    "segmaSer1 = new_df2[new_df2 > resDf.loc['mean+3std']].count()   \n",
    "segmaSer1.name = 'above3SegmaCnt'\n",
    "segmaSer2 = new_df2[new_df2 < resDf.loc['mean-3std']].count()    \n",
    "segmaSer2.name = 'below3SegmaCnt'\n",
    "\n",
    "boxSer1 = new_df2[new_df2 > resDf.loc['75%+1.5dist']].count()    \n",
    "boxSer1.name = 'aboveBoxCnt'\n",
    "boxSer2 = new_df2[new_df2 < resDf.loc['25%-1.5dist']].count()    \n",
    "boxSer2.name = 'belowBoxCnt'\n",
    "\n",
    "outTmpDf1 = pd.concat([segmaSer1,segmaSer2,boxSer1,boxSer2],axis=1)\n",
    "outTmpDf2 = resDf.loc[['max','min','mean','std','cov']]\n",
    "outDf = pd.concat([outTmpDf2.T, outTmpDf1], axis=1)\n",
    "print(outDf)\n",
    "outDf.plot(kind='line',figsize=(8,4))"
   ]
  },
  {
   "cell_type": "markdown",
   "metadata": {},
   "source": [
    "正态分布检查"
   ]
  },
  {
   "cell_type": "code",
   "execution_count": 18,
   "metadata": {},
   "outputs": [
    {
     "name": "stdout",
     "output_type": "stream",
     "text": [
      "             rows  posCnt  zeroCnt  negCnt\n",
      "Apps          777     777        0       0\n",
      "Accept        777     777        0       0\n",
      "Enroll        777     777        0       0\n",
      "Top10perc     777     777        0       0\n",
      "Top25perc     777     777        0       0\n",
      "F_Undergrad   777     777        0       0\n",
      "P_Undergrad   777     777        0       0\n",
      "Outstate      777     777        0       0\n",
      "Room_Board    777     777        0       0\n",
      "Books         777     777        0       0\n",
      "Personal      777     777        0       0\n",
      "PhD           777     777        0       0\n",
      "Terminal      777     777        0       0\n",
      "S_F_Ratio     777     777        0       0\n",
      "perc_alumi    777     775        2       0\n",
      "Expend        777     777        0       0\n",
      "Grad_Rate     777     777        0       0\n"
     ]
    },
    {
     "data": {
      "text/plain": [
       "<matplotlib.axes._subplots.AxesSubplot at 0x7f4868b039e8>"
      ]
     },
     "execution_count": 18,
     "metadata": {},
     "output_type": "execute_result"
    },
    {
     "data": {
      "image/png": "[encoded data removed]",
      "text/plain": [
       "<Figure size 432x288 with 1 Axes>"
      ]
     },
     "metadata": {},
     "output_type": "display_data"
    }
   ],
   "source": [
    "\n",
    "distDf = pd.DataFrame(index=new_DF.columns.values,columns=['rows','posCnt','zeroCnt','negCnt'])\n",
    "m,n = new_df2.shape\n",
    "for j in range(n):\n",
    "    ser = new_df2.iloc[:,j]\n",
    "    name = new_df2.columns[j]\n",
    "    posCnt = ser[ser>0].count()\n",
    "    zeroCnt = ser[ser==0].count()\n",
    "    negCnt = ser[ser<0].count()\n",
    "    distDf.loc[name,'rows'] = m\n",
    "    distDf.loc[name,'posCnt'] = posCnt\n",
    "    distDf.loc[name,'zeroCnt'] = zeroCnt\n",
    "    distDf.loc[name, 'negCnt'] = negCnt\n",
    "print(distDf)\n",
    "distDf.plot()"
   ]
  },
  {
   "cell_type": "markdown",
   "metadata": {},
   "source": [
    "数据对private的分布情况"
   ]
  },
  {
   "cell_type": "code",
   "execution_count": 19,
   "metadata": {},
   "outputs": [
    {
     "data": {
      "image/png": "[encoded data removed]",
      "text/plain": [
       "<Figure size 1152x1584 with 17 Axes>"
      ]
     },
     "metadata": {},
     "output_type": "display_data"
    }
   ],
   "source": [
    "y=pandasDF['Private']\n",
    "plt.figure(figsize=(16,22))\n",
    "i=0\n",
    "for subpo in new_df2.columns:\n",
    "    x=pandasDF[subpo]\n",
    "    plt.subplot(6,3,1+i)\n",
    "    plt.title(subpo)\n",
    "    plt.scatter(x,y)\n",
    "    i+=1\n",
    "plt.show()"
   ]
  },
  {
   "cell_type": "markdown",
   "metadata": {},
   "source": [
    "## 3 Data preparation"
   ]
  },
  {
   "cell_type": "markdown",
   "metadata": {},
   "source": [
    "### clean Data"
   ]
  },
  {
   "cell_type": "markdown",
   "metadata": {},
   "source": [
    "数据的缺失值处理"
   ]
  },
  {
   "cell_type": "code",
   "execution_count": 20,
   "metadata": {},
   "outputs": [
    {
     "data": {
      "text/plain": [
       "DataFrame[Private: string, Apps: bigint, Accept: bigint, Enroll: bigint, Top10perc: bigint, Top25perc: bigint, F_Undergrad: bigint, P_Undergrad: bigint, Outstate: bigint, Room_Board: bigint, Books: bigint, Personal: bigint, PhD: bigint, Terminal: bigint, S_F_Ratio: double, perc_alumi: bigint, Expend: bigint, Grad_Rate: bigint]"
      ]
     },
     "execution_count": 20,
     "metadata": {},
     "output_type": "execute_result"
    }
   ],
   "source": [
    "remove_Null_Private_DF.na.drop()"
   ]
  },
  {
   "cell_type": "markdown",
   "metadata": {},
   "source": [
    "删除非重要字段，重新构建数据"
   ]
  },
  {
   "cell_type": "code",
   "execution_count": 21,
   "metadata": {},
   "outputs": [
    {
     "name": "stdout",
     "output_type": "stream",
     "text": [
      "+-------+----+------+------+-----------+-----------+--------+----------+---------+------+---------+--------------------+------------+\n",
      "|Private|Apps|Accept|Enroll|F_Undergrad|P_Undergrad|Outstate|Room_Board|S_F_Ratio|Expend|Grad_Rate|            features|PrivateIndex|\n",
      "+-------+----+------+------+-----------+-----------+--------+----------+---------+------+---------+--------------------+------------+\n",
      "|    Yes|1660|  1232|   721|       2885|        537|    7440|      3300|     18.1|  7041|       60|[1660.0,1232.0,72...|         0.0|\n",
      "|    Yes|2186|  1924|   512|       2683|       1227|   12280|      6450|     12.2| 10527|       56|[2186.0,1924.0,51...|         0.0|\n",
      "|    Yes|1428|  1097|   336|       1036|         99|   11250|      3750|     12.9|  8735|       54|[1428.0,1097.0,33...|         0.0|\n",
      "|    Yes| 417|   349|   137|        510|         63|   12960|      5450|      7.7| 19016|       59|[417.0,349.0,137....|         0.0|\n",
      "|    Yes| 193|   146|    55|        249|        869|    7560|      4120|     11.9| 10922|       15|[193.0,146.0,55.0...|         0.0|\n",
      "|    Yes| 587|   479|   158|        678|         41|   13500|      3335|      9.4|  9727|       55|[587.0,479.0,158....|         0.0|\n",
      "|    Yes| 353|   340|   103|        416|        230|   13290|      5720|     11.5|  8861|       63|[353.0,340.0,103....|         0.0|\n",
      "|    Yes|1899|  1720|   489|       1594|         32|   13868|      4826|     13.7| 11487|       73|[1899.0,1720.0,48...|         0.0|\n",
      "|    Yes|1038|   839|   227|        973|        306|   15595|      4400|     11.3| 11644|       80|[1038.0,839.0,227...|         0.0|\n",
      "|    Yes| 582|   498|   172|        799|         78|   10468|      3380|     11.5|  8991|       52|[582.0,498.0,172....|         0.0|\n",
      "|    Yes|1732|  1425|   472|       1830|        110|   16548|      5406|     11.3| 10932|       73|[1732.0,1425.0,47...|         0.0|\n",
      "|    Yes|2652|  1900|   484|       1707|         44|   17080|      4440|      9.9| 11711|       76|[2652.0,1900.0,48...|         0.0|\n",
      "|    Yes|1179|   780|   290|       1130|        638|    9690|      4785|     13.3|  7940|       74|[1179.0,780.0,290...|         0.0|\n",
      "|    Yes|1267|  1080|   385|       1306|         28|   12572|      4552|     15.3|  9305|       68|[1267.0,1080.0,38...|         0.0|\n",
      "|    Yes| 494|   313|   157|       1317|       1235|    8352|      3640|     11.1|  8127|       55|[494.0,313.0,157....|         0.0|\n",
      "|    Yes|1420|  1093|   220|       1018|        287|    8700|      4780|     14.7|  7355|       69|[1420.0,1093.0,22...|         0.0|\n",
      "|    Yes|4302|   992|   418|       1593|          5|   19760|      5300|      8.4| 21424|      100|[4302.0,992.0,418...|         0.0|\n",
      "|    Yes|1216|   908|   423|       1819|        281|   10100|      3520|     12.1|  7994|       59|[1216.0,908.0,423...|         0.0|\n",
      "|    Yes|1130|   704|   322|       1586|        326|    9996|      3090|     11.5| 10908|       46|[1130.0,704.0,322...|         0.0|\n",
      "|     No|3540|  2001|  1016|       4190|       1512|    5130|      3592|     23.1|  4010|       34|[3540.0,2001.0,10...|         1.0|\n",
      "+-------+----+------+------+-----------+-----------+--------+----------+---------+------+---------+--------------------+------------+\n",
      "only showing top 20 rows\n",
      "\n"
     ]
    }
   ],
   "source": [
    "remove_Null_Private_DF =remove_Null_Private_DF.drop( 'PhD','perc_alumi','Terminal','Books','Personal','Top10perc','Top25perc')\n",
    "inputCols=['Apps',\n",
    " 'Accept',\n",
    " 'Enroll',\n",
    " 'F_Undergrad',\n",
    " 'P_Undergrad',\n",
    " 'Outstate',\n",
    " 'Room_Board',\n",
    " 'S_F_Ratio',\n",
    " 'Expend',\n",
    " 'Grad_Rate']\n",
    "assembler = VectorAssembler(\n",
    "  inputCols=inputCols,\n",
    "outputCol=\"features\")\n",
    "output = assembler.transform(remove_Null_Private_DF)\n",
    "indexer = StringIndexer(inputCol=\"Private\", outputCol=\"PrivateIndex\")\n",
    "privateIndex_fixed_DF = indexer.fit(output).transform(output)\n",
    "privateIndex_fixed_DF.show()\n"
   ]
  },
  {
   "cell_type": "markdown",
   "metadata": {},
   "source": [
    "异常值处理"
   ]
  },
  {
   "cell_type": "markdown",
   "metadata": {},
   "source": [
    "查找正常区间"
   ]
  },
  {
   "cell_type": "code",
   "execution_count": 63,
   "metadata": {},
   "outputs": [
    {
     "name": "stdout",
     "output_type": "stream",
     "text": [
      "['Apps', 'Accept', 'Enroll', 'F_Undergrad', 'P_Undergrad', 'Outstate', 'Room_Board', 'S_F_Ratio', 'Expend', 'Grad_Rate']\n",
      "{'Expend': [924.5, 16016.5], 'Enroll': [225.0, 1710.0], 'Grad_Rate': [16.0, 112.0], 'F_Undergrad': [945.0, 7577.5], 'Apps': [689.0, 7226.5], 'Outstate': [6994.0, 20759.0], 'P_Undergrad': [80.0, 2052.5], 'Accept': [557.0, 4647.0], 'Room_Board': [1479.5, 6915.5], 'S_F_Ratio': [4.1, 23.300000000000004]}\n"
     ]
    }
   ],
   "source": [
    "\n",
    "cols =['Apps', 'Accept', 'Enroll', 'F_Undergrad', 'P_Undergrad', 'Outstate', 'Room_Board', 'S_F_Ratio', 'Expend', 'Grad_Rate']\n",
    "print(cols)\n",
    "bounds = {}\n",
    "for col in cols:\n",
    "    quantiles = remove_Null_Private_DF.approxQuantile(col,[0.25,0.75],0.05)\n",
    "    IQR = quantiles[1] - quantiles[0]\n",
    "    if quantiles[0] - 1.5*IQR<0:\n",
    "        bounds[col] = [\n",
    "        quantiles[0],\n",
    "        quantiles[1] + 1.5*IQR\n",
    "        ]\n",
    "    else:\n",
    "        bounds[col] = [\n",
    "        quantiles[0] - 1.5*IQR,\n",
    "        quantiles[1] + 1.5*IQR\n",
    "        ]\n",
    "print(bounds) "
   ]
  },
  {
   "cell_type": "markdown",
   "metadata": {},
   "source": [
    "标记异常值"
   ]
  },
  {
   "cell_type": "code",
   "execution_count": 64,
   "metadata": {},
   "outputs": [
    {
     "name": "stdout",
     "output_type": "stream",
     "text": [
      "+-----+------+------+-----------+-----------+--------+----------+---------+------+---------+\n",
      "| Apps|Accept|Enroll|F_Undergrad|P_Undergrad|Outstate|Room_Board|S_F_Ratio|Expend|Grad_Rate|\n",
      "+-----+------+------+-----------+-----------+--------+----------+---------+------+---------+\n",
      "|false| false| false|      false|      false|   false|     false|    false| false|    false|\n",
      "|false| false| false|      false|      false|   false|     false|    false| false|    false|\n",
      "|false| false| false|      false|      false|   false|     false|    false| false|    false|\n",
      "| true|  true|  true|       true|       true|   false|     false|    false|  true|    false|\n",
      "| true|  true|  true|       true|      false|   false|     false|    false| false|     true|\n",
      "| true|  true|  true|       true|       true|   false|     false|    false| false|    false|\n",
      "| true|  true|  true|       true|      false|   false|     false|    false| false|    false|\n",
      "|false| false| false|      false|       true|   false|     false|    false| false|    false|\n",
      "+-----+------+------+-----------+-----------+--------+----------+---------+------+---------+\n",
      "only showing top 8 rows\n",
      "\n"
     ]
    }
   ],
   "source": [
    "outliers = remove_Null_Private_DF.select([((remove_Null_Private_DF[c] < bounds[c][0]) |(remove_Null_Private_DF[c]>bounds[c][1])).alias(c) for c in cols])\n",
    "outliers.show(8)"
   ]
  },
  {
   "cell_type": "markdown",
   "metadata": {},
   "source": [
    "替换异常值"
   ]
  },
  {
   "cell_type": "code",
   "execution_count": 66,
   "metadata": {},
   "outputs": [
    {
     "name": "stdout",
     "output_type": "stream",
     "text": [
      "              Apps       Accept       Enroll  F_Undergrad  P_Undergrad  \\\n",
      "count   777.000000   777.000000   777.000000   777.000000   777.000000   \n",
      "mean   2554.526384  1738.951094   656.355212  2877.918275   644.419562   \n",
      "std    2227.777422  1374.936431   515.277102  2394.113514   663.103629   \n",
      "min     689.000000   557.000000   225.000000   945.000000    80.000000   \n",
      "25%     776.000000   604.000000   242.000000   992.000000    95.000000   \n",
      "50%    1558.000000  1110.000000   434.000000  1707.000000   353.000000   \n",
      "75%    3624.000000  2424.000000   902.000000  4005.000000   967.000000   \n",
      "max    7226.500000  4647.000000  1710.000000  7577.500000  2052.500000   \n",
      "\n",
      "           Outstate   Room_Board   S_F_Ratio        Expend   Grad_Rate  \\\n",
      "count    777.000000   777.000000  777.000000    777.000000  777.000000   \n",
      "mean   10755.033462  4352.115187   14.043629   9118.232304   65.465894   \n",
      "std     3631.244837  1082.377874    3.762236   3254.945139   17.124218   \n",
      "min     6994.000000  1780.000000    4.100000   3186.000000   16.000000   \n",
      "25%     7320.000000  3597.000000   11.500000   6751.000000   53.000000   \n",
      "50%     9990.000000  4200.000000   13.600000   8377.000000   65.000000   \n",
      "75%    12925.000000  5050.000000   16.500000  10830.000000   78.000000   \n",
      "max    20759.000000  6915.500000   23.300000  16016.500000  112.000000   \n",
      "\n",
      "       PrivateIndex  \n",
      "count    777.000000  \n",
      "mean       0.272844  \n",
      "std        0.445708  \n",
      "min        0.000000  \n",
      "25%        0.000000  \n",
      "50%        0.000000  \n",
      "75%        1.000000  \n",
      "max        1.000000  \n",
      "['Apps', 'Accept', 'Enroll', 'F_Undergrad', 'P_Undergrad', 'Outstate', 'Room_Board', 'S_F_Ratio', 'Expend', 'Grad_Rate']\n",
      "{}\n",
      "Apps done\n",
      "Accept done\n",
      "Enroll done\n",
      "F_Undergrad done\n",
      "P_Undergrad done\n",
      "Outstate done\n",
      "Room_Board done\n",
      "S_F_Ratio done\n",
      "Expend done\n",
      "Grad_Rate done\n",
      "+-------+------+------+------+-----------+-----------+--------+----------+---------+-------+---------+--------------------+------------+\n",
      "|Private|  Apps|Accept|Enroll|F_Undergrad|P_Undergrad|Outstate|Room_Board|S_F_Ratio| Expend|Grad_Rate|            features|PrivateIndex|\n",
      "+-------+------+------+------+-----------+-----------+--------+----------+---------+-------+---------+--------------------+------------+\n",
      "|    Yes|1660.0|1232.0| 721.0|     2885.0|      537.0|  7440.0|    3300.0|     18.1| 7041.0|     60.0|[1660.0,1232.0,72...|         0.0|\n",
      "|    Yes|2186.0|1924.0| 512.0|     2683.0|     1227.0| 12280.0|    6450.0|     12.2|10527.0|     56.0|[2186.0,1924.0,51...|         0.0|\n",
      "|    Yes|1428.0|1097.0| 336.0|     1036.0|       99.0| 11250.0|    3750.0|     12.9| 8735.0|     54.0|[1428.0,1097.0,33...|         0.0|\n",
      "|    Yes| 689.0| 557.0| 225.0|      945.0|       80.0| 12960.0|    5450.0|      7.7|16016.5|     59.0|[417.0,349.0,137....|         0.0|\n",
      "|    Yes| 689.0| 557.0| 225.0|      945.0|      869.0|  7560.0|    4120.0|     11.9|10922.0|     16.0|[193.0,146.0,55.0...|         0.0|\n",
      "|    Yes| 689.0| 557.0| 225.0|      945.0|       80.0| 13500.0|    3335.0|      9.4| 9727.0|     55.0|[587.0,479.0,158....|         0.0|\n",
      "|    Yes| 689.0| 557.0| 225.0|      945.0|      230.0| 13290.0|    5720.0|     11.5| 8861.0|     63.0|[353.0,340.0,103....|         0.0|\n",
      "|    Yes|1899.0|1720.0| 489.0|     1594.0|       80.0| 13868.0|    4826.0|     13.7|11487.0|     73.0|[1899.0,1720.0,48...|         0.0|\n",
      "+-------+------+------+------+-----------+-----------+--------+----------+---------+-------+---------+--------------------+------------+\n",
      "only showing top 8 rows\n",
      "\n",
      "              Apps       Accept       Enroll  F_Undergrad  P_Undergrad  \\\n",
      "count   777.000000   777.000000   777.000000   777.000000   777.000000   \n",
      "mean   2554.526384  1738.951094   656.355212  2877.918275   644.419562   \n",
      "std    2227.777422  1374.936431   515.277102  2394.113514   663.103629   \n",
      "min     689.000000   557.000000   225.000000   945.000000    80.000000   \n",
      "25%     776.000000   604.000000   242.000000   992.000000    95.000000   \n",
      "50%    1558.000000  1110.000000   434.000000  1707.000000   353.000000   \n",
      "75%    3624.000000  2424.000000   902.000000  4005.000000   967.000000   \n",
      "max    7226.500000  4647.000000  1710.000000  7577.500000  2052.500000   \n",
      "\n",
      "           Outstate   Room_Board   S_F_Ratio        Expend   Grad_Rate  \\\n",
      "count    777.000000   777.000000  777.000000    777.000000  777.000000   \n",
      "mean   10755.033462  4352.115187   14.043629   9118.232304   65.465894   \n",
      "std     3631.244837  1082.377874    3.762236   3254.945139   17.124218   \n",
      "min     6994.000000  1780.000000    4.100000   3186.000000   16.000000   \n",
      "25%     7320.000000  3597.000000   11.500000   6751.000000   53.000000   \n",
      "50%     9990.000000  4200.000000   13.600000   8377.000000   65.000000   \n",
      "75%    12925.000000  5050.000000   16.500000  10830.000000   78.000000   \n",
      "max    20759.000000  6915.500000   23.300000  16016.500000  112.000000   \n",
      "\n",
      "       PrivateIndex  \n",
      "count    777.000000  \n",
      "mean       0.272844  \n",
      "std        0.445708  \n",
      "min        0.000000  \n",
      "25%        0.000000  \n",
      "50%        0.000000  \n",
      "75%        1.000000  \n",
      "max        1.000000  \n"
     ]
    }
   ],
   "source": [
    "# from pyspark.sql.functions import *\n",
    "\n",
    "# pdf = privateIndex_fixed_DF.drop('Private','features').toPandas()\n",
    "# for col in cols:\n",
    "#     meams = privateIndex_fixed_DF.select(mean(col).alias('mean')).toPandas()\n",
    "#     me = meams['mean'][0]\n",
    "#     for index in range(len( pdf[col])):\n",
    "#         if( pdf[col][index]>bounds[col][1] or  pdf[col][index]<bounds[col][0]):\n",
    "#              pdf[col][index] = me\n",
    "# delete_errorData_DF = spark.createDataFrame(pdf)\n",
    "\n",
    "print(privateIndex_fixed_DF.toPandas().describe())\n",
    "print(cols)\n",
    "print(d)\n",
    "for col in cols:\n",
    "    privateIndex_fixed_DF = privateIndex_fixed_DF.withColumn(col, when(privateIndex_fixed_DF[col] < bounds[col][0],bounds[col][0]).when(privateIndex_fixed_DF[col] > bounds[col][1], bounds[col][1]).otherwise(privateIndex_fixed_DF[col] ).alias(col))\n",
    "    print(col+\" done\")\n",
    "privateIndex_fixed_DF.show(8)\n",
    "print(privateIndex_fixed_DF.toPandas().describe())"
   ]
  },
  {
   "cell_type": "markdown",
   "metadata": {},
   "source": [
    "## 4 数据转换"
   ]
  },
  {
   "cell_type": "markdown",
   "metadata": {},
   "source": [
    "数据LOG 投射"
   ]
  },
  {
   "cell_type": "code",
   "execution_count": 80,
   "metadata": {},
   "outputs": [
    {
     "name": "stdout",
     "output_type": "stream",
     "text": [
      "Apps done\n",
      "Accept done\n",
      "Enroll done\n",
      "F_Undergrad done\n",
      "P_Undergrad done\n",
      "Outstate done\n",
      "Room_Board done\n",
      "S_F_Ratio done\n",
      "Expend done\n",
      "Grad_Rate done\n",
      "+-------+-----------------+------------------+-----------------+------------------+------------------+-----------------+-----------------+------------------+-----------------+------------------+--------------------+------------+\n",
      "|Private|             Apps|            Accept|           Enroll|       F_Undergrad|       P_Undergrad|         Outstate|       Room_Board|         S_F_Ratio|           Expend|         Grad_Rate|            features|PrivateIndex|\n",
      "+-------+-----------------+------------------+-----------------+------------------+------------------+-----------------+-----------------+------------------+-----------------+------------------+--------------------+------------+\n",
      "|    Yes|7.415175109613295| 7.117205503164344|6.582025138892826|7.9676267393338165|6.2878585601617845|8.914760527397261|8.101980731853192|2.9496883350525844|8.859647499714997| 4.110873864173311|[1660.0,1232.0,72...|         0.0|\n",
      "|    Yes|7.690286020676768| 7.562681246721884|6.240275845170769| 7.895063498091573| 7.113142108707088|9.415808631610384|8.771990436532242| 2.580216829592325|9.261793653565098|  4.04305126783455|[2186.0,1924.0,51...|         0.0|\n",
      "|    Yes|7.264730177929867| 7.001245622069476|5.820082930352362|6.9440872082295275| 4.605170185988092|9.328212292571072|8.229777750081887| 2.631888840136646|9.075207697984686| 4.007333185232471|[1428.0,1097.0,33...|         0.0|\n",
      "|    Yes|6.536691597591305| 6.324358962381311|5.420534999272286| 6.852242569051878| 4.394449154672439|9.469700127423375|8.603554357064281| 2.163323025660538|9.681437153513176|   4.0943445622221|[417.0,349.0,137....|         0.0|\n",
      "|    Yes|6.536691597591305| 6.324358962381311|5.420534999272286| 6.852242569051878|  6.76849321164863| 8.93075873555827|8.323851131338817|2.5572273113676265|9.298625936843543| 2.833213344056216|[193.0,146.0,55.0...|         0.0|\n",
      "|    Yes|6.536691597591305| 6.324358962381311|5.420534999272286| 6.852242569051878| 4.394449154672439|9.510519035757246|8.112527763478637| 2.341805806147327|9.182763604205949|  4.02535169073515|[587.0,479.0,158....|         0.0|\n",
      "|    Yes|6.536691597591305| 6.324358962381311|5.420534999272286| 6.852242569051878| 5.442417710521793|9.494842393421333|8.651898894268529|2.5257286443082556|9.089527751759436|4.1588830833596715|[353.0,340.0,103....|         0.0|\n",
      "|    Yes|7.549609165154532| 7.450660796211539|6.194405391104672| 7.374629015218945| 4.394449154672439|9.537411412656335|8.481980435660493|2.6878474937846906|9.349058291288005|  4.30406509320417|[1899.0,1720.0,48...|         0.0|\n",
      "|    Yes|6.946013991099227| 6.733401891837359|5.429345628954441| 6.881411303642535| 5.726847747587197|9.654769750102489| 8.38958706681109| 2.509599262378372| 9.36263218231844| 4.394449154672439|[1038.0,839.0,227...|         0.0|\n",
      "|    Yes|6.536691597591305| 6.324358962381311|5.420534999272286| 6.852242569051878| 4.394449154672439|9.256173788319355|8.125926802707886|2.5257286443082556|9.104090572133472| 3.970291913552122|[582.0,498.0,172....|         0.0|\n",
      "|    Yes|7.457609289715606| 7.262628600974241|6.159095388491933|7.5126175446745105| 4.709530201312334|9.714080956018943|8.595449689382004| 2.509599262378372|9.299541017434485|  4.30406509320417|[1732.0,1425.0,47...|         0.0|\n",
      "|    Yes| 7.88344635413774| 7.550135342488429|6.184148890937483| 7.443078374348516| 4.394449154672439| 9.74572201363806|8.398634855292102| 2.388762789235098|9.368369236201092| 4.343805421853684|[2652.0,1900.0,48...|         0.0|\n",
      "|    Yes| 7.07326971745971| 6.660575149839686|5.673323267171493| 7.030857476116121| 6.459904454377535| 9.17895289873455| 8.47345026846832|2.6602595372658615| 8.97979449089521|  4.31748811353631|[1179.0,780.0,290...|         0.0|\n",
      "|    Yes|7.145196134997171| 6.985641817639208|5.955837369464831| 7.175489713624222| 4.394449154672439|9.439306936593182|8.423541635334782| 2.791165107812717|9.138414632404594|  4.23410650459726|[1267.0,1080.0,38...|         0.0|\n",
      "|    Yes|6.536691597591305| 6.324358962381311|5.420534999272286| 7.183870715062453| 7.119635638017636|9.030376034755907|8.200013648175434|2.4932054526026954|9.003070169818264|  4.02535169073515|[494.0,313.0,157....|         0.0|\n",
      "|    Yes|7.259116128097101|6.9975959829819265|5.420534999272286| 6.926577033222725| 5.662960480135946|9.071193240566025|8.472405008626103|2.7536607123542622|8.903271585724212| 4.248495242049359|[1420.0,1093.0,22...|         0.0|\n",
      "|    Yes|  8.3670677328386| 6.900730664045173|6.037870919922137| 7.374001859350161| 4.394449154672439|9.891465577308802|8.575650760987806|2.2407096892759584|9.681437153513176|  4.61512051684126|[4302.0,992.0,418...|         0.0|\n",
      "|    Yes|7.104144092987527| 6.812345094177479|6.049733455231958| 7.506591780070841| 5.641907070938114|9.220389707829185|8.166500319155052|2.5726122302071057|8.986571625268054|   4.0943445622221|[1216.0,908.0,423...|         0.0|\n",
      "|    Yes|7.030857476116121| 6.558197802812269|5.777652323222656| 7.369600720526409|5.7899601708972535|9.210040326967182|8.036249942132116|2.5257286443082556|9.297343415597757|3.8501476017100584|[1130.0,704.0,322...|         0.0|\n",
      "|     No|8.172164452111904| 7.601901959875166| 6.92461239604856| 8.340694647925071| 7.321849713788356|8.852950887099581|8.186742787113518|3.1822118404966093|8.296795865770052|3.5553480614894135|[3540.0,2001.0,10...|         1.0|\n",
      "+-------+-----------------+------------------+-----------------+------------------+------------------+-----------------+-----------------+------------------+-----------------+------------------+--------------------+------------+\n",
      "only showing top 20 rows\n",
      "\n"
     ]
    }
   ],
   "source": [
    "d = {}\n",
    "\n",
    "for col in cols:\n",
    "      d[col] = privateIndex_fixed_DF.approxQuantile(col,[0.01,0.99],0.25)\n",
    "\n",
    "for col in cols:\n",
    "    privateIndex_fixed_DF = privateIndex_fixed_DF.withColumn(col, log(when(privateIndex_fixed_DF[col] < d[col][0],d[col][0]).when(privateIndex_fixed_DF[col] > d[col][1], d[col][1]).otherwise(privateIndex_fixed_DF[col] ) +1).alias(col))\n",
    "    print(col+\" done\")\n",
    "\n",
    "privateIndex_fixed_DF.show()"
   ]
  },
  {
   "cell_type": "markdown",
   "metadata": {},
   "source": [
    "进行L1 或者L2 正则化 P =1 L1 p=2 L2"
   ]
  },
  {
   "cell_type": "code",
   "execution_count": 81,
   "metadata": {},
   "outputs": [
    {
     "name": "stdout",
     "output_type": "stream",
     "text": [
      "+-------+-----------------+------------------+-----------------+------------------+------------------+-----------------+-----------------+------------------+-----------------+------------------+--------------------+------------+--------------------+--------------------+\n",
      "|Private|             Apps|            Accept|           Enroll|       F_Undergrad|       P_Undergrad|         Outstate|       Room_Board|         S_F_Ratio|           Expend|         Grad_Rate|            features|PrivateIndex|       norm_features|           norm_test|\n",
      "+-------+-----------------+------------------+-----------------+------------------+------------------+-----------------+-----------------+------------------+-----------------+------------------+--------------------+------------+--------------------+--------------------+\n",
      "|    Yes|7.415175109613295| 7.117205503164344|6.582025138892826|7.9676267393338165|6.2878585601617845|8.914760527397261|8.101980731853192|2.9496883350525844|8.859647499714997| 4.110873864173311|[1660.0,1232.0,72...|         0.0|[7.41517510961329...|[0.10855684279178...|\n",
      "|    Yes|7.690286020676768| 7.562681246721884|6.240275845170769| 7.895063498091573| 7.113142108707088|9.415808631610384|8.771990436532242| 2.580216829592325|9.261793653565098|  4.04305126783455|[2186.0,1924.0,51...|         0.0|[7.69028602067676...|[0.10896721584617...|\n",
      "|    Yes|7.264730177929867| 7.001245622069476|5.820082930352362|6.9440872082295275| 4.605170185988092|9.328212292571072|8.229777750081887| 2.631888840136646|9.075207697984686| 4.007333185232471|[1428.0,1097.0,33...|         0.0|[7.26473017792986...|[0.11192394986904...|\n",
      "|    Yes|6.536691597591305| 6.324358962381311|5.420534999272286| 6.852242569051878| 4.394449154672439|9.469700127423375|8.603554357064281| 2.163323025660538|9.681437153513176|   4.0943445622221|[417.0,349.0,137....|         0.0|[6.53669159759130...|[0.10287419133235...|\n",
      "|    Yes|6.536691597591305| 6.324358962381311|5.420534999272286| 6.852242569051878|  6.76849321164863| 8.93075873555827|8.323851131338817|2.5572273113676265|9.298625936843543| 2.833213344056216|[193.0,146.0,55.0...|         0.0|[6.53669159759130...|[0.10238216682209...|\n",
      "|    Yes|6.536691597591305| 6.324358962381311|5.420534999272286| 6.852242569051878| 4.394449154672439|9.510519035757246|8.112527763478637| 2.341805806147327|9.182763604205949|  4.02535169073515|[587.0,479.0,158....|         0.0|[6.53669159759130...|[0.10425138413890...|\n",
      "|    Yes|6.536691597591305| 6.324358962381311|5.420534999272286| 6.852242569051878| 5.442417710521793|9.494842393421333|8.651898894268529|2.5257286443082556|9.089527751759436|4.1588830833596715|[353.0,340.0,103....|         0.0|[6.53669159759130...|[0.10134857072826...|\n",
      "|    Yes|7.549609165154532| 7.450660796211539|6.194405391104672| 7.374629015218945| 4.394449154672439|9.537411412656335|8.481980435660493|2.6878474937846906|9.349058291288005|  4.30406509320417|[1899.0,1720.0,48...|         0.0|[7.54960916515453...|[0.11213825870713...|\n",
      "|    Yes|6.946013991099227| 6.733401891837359|5.429345628954441| 6.881411303642535| 5.726847747587197|9.654769750102489| 8.38958706681109| 2.509599262378372| 9.36263218231844| 4.394449154672439|[1038.0,839.0,227...|         0.0|[6.94601399109922...|[0.10519791439672...|\n",
      "|    Yes|6.536691597591305| 6.324358962381311|5.420534999272286| 6.852242569051878| 4.394449154672439|9.256173788319355|8.125926802707886|2.5257286443082556|9.104090572133472| 3.970291913552122|[582.0,498.0,172....|         0.0|[6.53669159759130...|[0.10456951628028...|\n",
      "|    Yes|7.457609289715606| 7.262628600974241|6.159095388491933|7.5126175446745105| 4.709530201312334|9.714080956018943|8.595449689382004| 2.509599262378372|9.299541017434485|  4.30406509320417|[1732.0,1425.0,47...|         0.0|[7.45760928971560...|[0.11044347667003...|\n",
      "|    Yes| 7.88344635413774| 7.550135342488429|6.184148890937483| 7.443078374348516| 4.394449154672439| 9.74572201363806|8.398634855292102| 2.388762789235098|9.368369236201092| 4.343805421853684|[2652.0,1900.0,48...|         0.0|[7.88344635413774...|[0.11644582017203...|\n",
      "|    Yes| 7.07326971745971| 6.660575149839686|5.673323267171493| 7.030857476116121| 6.459904454377535| 9.17895289873455| 8.47345026846832|2.6602595372658615| 8.97979449089521|  4.31748811353631|[1179.0,780.0,290...|         0.0|[7.07326971745971...|[0.10635236320057...|\n",
      "|    Yes|7.145196134997171| 6.985641817639208|5.955837369464831| 7.175489713624222| 4.394449154672439|9.439306936593182|8.423541635334782| 2.791165107812717|9.138414632404594|  4.23410650459726|[1267.0,1080.0,38...|         0.0|[7.14519613499717...|[0.10878278893450...|\n",
      "|    Yes|6.536691597591305| 6.324358962381311|5.420534999272286| 7.183870715062453| 7.119635638017636|9.030376034755907|8.200013648175434|2.4932054526026954|9.003070169818264|  4.02535169073515|[494.0,313.0,157....|         0.0|[6.53669159759130...|[0.10004562042612...|\n",
      "|    Yes|7.259116128097101|6.9975959829819265|5.420534999272286| 6.926577033222725| 5.662960480135946|9.071193240566025|8.472405008626103|2.7536607123542622|8.903271585724212| 4.248495242049359|[1420.0,1093.0,22...|         0.0|[7.25911612809710...|[0.11046224770679...|\n",
      "|    Yes|  8.3670677328386| 6.900730664045173|6.037870919922137| 7.374001859350161| 4.394449154672439|9.891465577308802|8.575650760987806|2.2407096892759584|9.681437153513176|  4.61512051684126|[4302.0,992.0,418...|         0.0|[8.3670677328386,...|[0.12290322550719...|\n",
      "|    Yes|7.104144092987527| 6.812345094177479|6.049733455231958| 7.506591780070841| 5.641907070938114|9.220389707829185|8.166500319155052|2.5726122302071057|8.986571625268054|   4.0943445622221|[1216.0,908.0,423...|         0.0|[7.10414409298752...|[0.10738612448913...|\n",
      "|    Yes|7.030857476116121| 6.558197802812269|5.777652323222656| 7.369600720526409|5.7899601708972535|9.210040326967182|8.036249942132116|2.5257286443082556|9.297343415597757|3.8501476017100584|[1130.0,704.0,322...|         0.0|[7.03085747611612...|[0.10743026739684...|\n",
      "|     No|8.172164452111904| 7.601901959875166| 6.92461239604856| 8.340694647925071| 7.321849713788356|8.852950887099581|8.186742787113518|3.1822118404966093|8.296795865770052|3.5553480614894135|[3540.0,2001.0,10...|         1.0|[8.17216445211190...|[0.11602374987830...|\n",
      "+-------+-----------------+------------------+-----------------+------------------+------------------+-----------------+-----------------+------------------+-----------------+------------------+--------------------+------------+--------------------+--------------------+\n",
      "only showing top 20 rows\n",
      "\n"
     ]
    }
   ],
   "source": [
    "from pyspark.ml.feature import Normalizer\n",
    "from pyspark.ml import Pipeline\n",
    "vecAssembler = VectorAssembler(inputCols=cols, outputCol=\"norm_features\")\n",
    "normalizer = Normalizer(p=1, inputCol=\"norm_features\", outputCol=\"norm_test\")\n",
    "pipeline = Pipeline(stages=[vecAssembler, normalizer])\n",
    "pipeline_fit = pipeline.fit(delete_errorData_DF)\n",
    "normalizer_df = pipeline_fit.transform(privateIndex_fixed_DF)\n",
    "normalizer_df.show()"
   ]
  },
  {
   "cell_type": "code",
   "execution_count": null,
   "metadata": {},
   "outputs": [],
   "source": []
  }
 ],
 "metadata": {
  "kernelspec": {
   "display_name": "Python 3",
   "language": "python",
   "name": "python3"
  },
  "language_info": {
   "codemirror_mode": {
    "name": "ipython",
    "version": 3
   },
   "file_extension": ".py",
   "mimetype": "text/x-python",
   "name": "python",
   "nbconvert_exporter": "python",
   "pygments_lexer": "ipython3",
   "version": "3.5.2"
  }
 },
 "nbformat": 4,
 "nbformat_minor": 2
}
