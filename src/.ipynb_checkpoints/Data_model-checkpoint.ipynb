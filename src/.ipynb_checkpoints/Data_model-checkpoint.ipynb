{
 "cells": [
  {
   "cell_type": "code",
   "execution_count": 1,
   "metadata": {},
   "outputs": [],
   "source": [
    "import findspark\n",
    "findspark.init('/home/ubuntu/spark-2.1.1-bin-hadoop2.7')\n",
    "import pyspark\n",
    "import pandas as pd\n",
    "from pyspark.sql import *\n",
    "spark = SparkSession.builder.appName('Data_model').getOrCreate()\n",
    "from pyspark.ml.classification import LogisticRegression\n",
    "from pyspark.sql.types import StructType, StructField, IntegerType"
   ]
  },
  {
   "cell_type": "markdown",
   "metadata": {},
   "source": [
    "引入数据集"
   ]
  },
  {
   "cell_type": "code",
   "execution_count": 2,
   "metadata": {},
   "outputs": [
    {
     "name": "stdout",
     "output_type": "stream",
     "text": [
      "+---+-------+-----------------+-----------------+-----------------+------------------+------------------+-----------------+-----------------+------------------+-----------------+-----------------+\n",
      "|_c0|Private|             Apps|           Accept|           Enroll|       F_Undergrad|       P_Undergrad|         Outstate|       Room_Board|         S_F_Ratio|           Expend|        Grad_Rate|\n",
      "+---+-------+-----------------+-----------------+-----------------+------------------+------------------+-----------------+-----------------+------------------+-----------------+-----------------+\n",
      "|  0|    Yes|7.415175109613295|7.117205503164344|6.582025138892826|7.9676267393338165|6.2878585601617845|8.914760527397261|8.101980731853192|2.9496883350525844|8.859647499714997|4.110873864173311|\n",
      "|  1|    Yes|7.690286020676768|7.562681246721884|6.240275845170769| 7.895063498091573| 7.113142108707088|9.415808631610384|8.771990436532242| 2.580216829592325|9.261793653565098| 4.04305126783455|\n",
      "|  2|    Yes|7.264730177929867|7.001245622069476|5.820082930352362|6.9440872082295275| 4.605170185988092|9.328212292571072|8.229777750081887| 2.631888840136646|9.075207697984686|4.007333185232471|\n",
      "|  3|    Yes|6.035481432524756|5.857933154483459|4.927253685157205| 6.236369590203704|4.1588830833596715|9.469700127423375|8.603554357064281| 2.163323025660538|9.853088594952276|  4.0943445622221|\n",
      "|  4|    Yes|5.267858159063328|4.990432586778736| 4.02535169073515| 5.521460917862246|  6.76849321164863| 8.93075873555827|8.323851131338817|2.5572273113676265|9.298625936843543|2.772588722239781|\n",
      "+---+-------+-----------------+-----------------+-----------------+------------------+------------------+-----------------+-----------------+------------------+-----------------+-----------------+\n",
      "only showing top 5 rows\n",
      "\n",
      "root\n",
      " |-- _c0: integer (nullable = true)\n",
      " |-- Private: string (nullable = true)\n",
      " |-- Apps: double (nullable = true)\n",
      " |-- Accept: double (nullable = true)\n",
      " |-- Enroll: double (nullable = true)\n",
      " |-- F_Undergrad: double (nullable = true)\n",
      " |-- P_Undergrad: double (nullable = true)\n",
      " |-- Outstate: double (nullable = true)\n",
      " |-- Room_Board: double (nullable = true)\n",
      " |-- S_F_Ratio: double (nullable = true)\n",
      " |-- Expend: double (nullable = true)\n",
      " |-- Grad_Rate: double (nullable = true)\n",
      "\n"
     ]
    }
   ],
   "source": [
    "normalizer_df = spark.read.csv('/home/ubuntu/BDAS_yang124/Datasets/normalizer_df_pandas.csv',inferSchema=True,header=True)\n",
    "normalizer_df.show(5)\n",
    "normalizer_df.printSchema()"
   ]
  },
  {
   "cell_type": "code",
   "execution_count": 3,
   "metadata": {},
   "outputs": [
    {
     "name": "stdout",
     "output_type": "stream",
     "text": [
      "+---+-------+-----------------+-----------------+-----------------+------------------+------------------+-----------------+-----------------+------------------+-----------------+-----------------+--------------------+------------+\n",
      "|_c0|Private|             Apps|           Accept|           Enroll|       F_Undergrad|       P_Undergrad|         Outstate|       Room_Board|         S_F_Ratio|           Expend|        Grad_Rate|            features|PrivateIndex|\n",
      "+---+-------+-----------------+-----------------+-----------------+------------------+------------------+-----------------+-----------------+------------------+-----------------+-----------------+--------------------+------------+\n",
      "|  0|    Yes|7.415175109613295|7.117205503164344|6.582025138892826|7.9676267393338165|6.2878585601617845|8.914760527397261|8.101980731853192|2.9496883350525844|8.859647499714997|4.110873864173311|[7.41517510961329...|         0.0|\n",
      "|  1|    Yes|7.690286020676768|7.562681246721884|6.240275845170769| 7.895063498091573| 7.113142108707088|9.415808631610384|8.771990436532242| 2.580216829592325|9.261793653565098| 4.04305126783455|[7.69028602067676...|         0.0|\n",
      "|  2|    Yes|7.264730177929867|7.001245622069476|5.820082930352362|6.9440872082295275| 4.605170185988092|9.328212292571072|8.229777750081887| 2.631888840136646|9.075207697984686|4.007333185232471|[7.26473017792986...|         0.0|\n",
      "|  3|    Yes|6.035481432524756|5.857933154483459|4.927253685157205| 6.236369590203704|4.1588830833596715|9.469700127423375|8.603554357064281| 2.163323025660538|9.853088594952276|  4.0943445622221|[6.03548143252475...|         0.0|\n",
      "|  4|    Yes|5.267858159063328|4.990432586778736| 4.02535169073515| 5.521460917862246|  6.76849321164863| 8.93075873555827|8.323851131338817|2.5572273113676265|9.298625936843543|2.772588722239781|[5.26785815906332...|         0.0|\n",
      "+---+-------+-----------------+-----------------+-----------------+------------------+------------------+-----------------+-----------------+------------------+-----------------+-----------------+--------------------+------------+\n",
      "only showing top 5 rows\n",
      "\n",
      "+--------------------+-----+\n",
      "|            features|label|\n",
      "+--------------------+-----+\n",
      "|[7.41517510961329...|  0.0|\n",
      "|[7.69028602067676...|  0.0|\n",
      "|[7.26473017792986...|  0.0|\n",
      "|[6.03548143252475...|  0.0|\n",
      "|[5.26785815906332...|  0.0|\n",
      "+--------------------+-----+\n",
      "only showing top 5 rows\n",
      "\n"
     ]
    }
   ],
   "source": [
    "from pyspark.ml.linalg import Vectors\n",
    "from pyspark.ml.feature import VectorAssembler\n",
    "from pyspark.ml.feature import StringIndexer\n",
    "inputCols=['Apps',\n",
    " 'Accept',\n",
    " 'Enroll',\n",
    " 'F_Undergrad',\n",
    " 'P_Undergrad',\n",
    " 'Outstate',\n",
    " 'Room_Board',\n",
    " 'S_F_Ratio',\n",
    " 'Expend',\n",
    " 'Grad_Rate']\n",
    "assembler = VectorAssembler(\n",
    "  inputCols=inputCols,\n",
    "outputCol=\"features\")\n",
    "output = assembler.transform(normalizer_df)\n",
    "indexer = StringIndexer(inputCol=\"Private\", outputCol=\"PrivateIndex\")\n",
    "final_data_all = indexer.fit(output).transform(output)\n",
    "final_data_all.show(5)\n",
    "\n",
    "\n",
    "final_data = final_data_all.selectExpr(\"features\",\"`PrivateIndex` as label\")\n",
    "\n",
    "final_data.show(5)\n"
   ]
  },
  {
   "cell_type": "code",
   "execution_count": 4,
   "metadata": {},
   "outputs": [],
   "source": [
    "from pyspark.ml.classification import DecisionTreeClassifier,RandomForestClassifier,LogisticRegression,NaiveBayes\n",
    "from pyspark.ml.evaluation import MulticlassClassificationEvaluator"
   ]
  },
  {
   "cell_type": "markdown",
   "metadata": {},
   "source": [
    "分割数据用于选择最佳模型，获取最佳参数"
   ]
  },
  {
   "cell_type": "code",
   "execution_count": 5,
   "metadata": {},
   "outputs": [],
   "source": [
    "train_data,test_data = final_data.randomSplit([0.7,0.3])"
   ]
  },
  {
   "cell_type": "markdown",
   "metadata": {},
   "source": [
    "需要使用测模型构建，并且不适用参数并获取其评价分数"
   ]
  },
  {
   "cell_type": "code",
   "execution_count": 6,
   "metadata": {},
   "outputs": [
    {
     "name": "stdout",
     "output_type": "stream",
     "text": [
      "DTC\n",
      "0.9406147875816994\n",
      "RFC\n",
      "0.9649203431372549\n",
      "LR\n",
      "0.9624183006535938\n",
      "NB\n",
      "0.19648692810457516\n"
     ]
    }
   ],
   "source": [
    "lr = LogisticRegression()\n",
    "rfc = RandomForestClassifier()\n",
    "dtc = DecisionTreeClassifier()\n",
    "nb = NaiveBayes()\n",
    "lr_original_model=lr.fit(train_data)\n",
    "rfc_original_model=rfc.fit(train_data)\n",
    "dtc_original_model=dtc.fit(train_data)\n",
    "nb_original_model=nb.fit(train_data)\n",
    "lr_original_predictions=lr_original_model.transform(test_data)\n",
    "rfc_original_predictions=rfc_original_model.transform(test_data)\n",
    "dtc_original_predictions=dtc_original_model.transform(test_data)\n",
    "nb_original_predictions=nb_original_model.transform(test_data)\n",
    "\n",
    "from pyspark.ml.evaluation import BinaryClassificationEvaluator\n",
    "\n",
    "my_binary_eval = BinaryClassificationEvaluator()\n",
    "\n",
    "print(\"DTC\")\n",
    "print(my_binary_eval.evaluate(dtc_original_predictions))\n",
    "print(\"RFC\")\n",
    "print(my_binary_eval.evaluate(rfc_original_predictions))\n",
    "print(\"LR\")\n",
    "print(my_binary_eval.evaluate(lr_original_predictions))\n",
    "print(\"NB\")\n",
    "print(my_binary_eval.evaluate(nb_original_predictions))"
   ]
  },
  {
   "cell_type": "code",
   "execution_count": 7,
   "metadata": {},
   "outputs": [
    {
     "name": "stdout",
     "output_type": "stream",
     "text": [
      "----------------------------------------\n",
      "Decision tree has an accuracy of: 91.71%\n",
      "----------------------------------------\n",
      "Random forest ensemble has an accuracy of: 92.17%\n",
      "----------------------------------------\n",
      " LR has an accuracy of: 94.47%\n",
      "----------------------------------------\n",
      " NB has an accuracy of: 75.12%\n"
     ]
    }
   ],
   "source": [
    "from pyspark.ml.evaluation import MulticlassClassificationEvaluator\n",
    "acc_evaluator = MulticlassClassificationEvaluator( predictionCol=\"prediction\", metricName=\"accuracy\")\n",
    "dtc_acc = acc_evaluator.evaluate(dtc_original_predictions)\n",
    "rfc_acc = acc_evaluator.evaluate(rfc_original_predictions)\n",
    "lr_acc = acc_evaluator.evaluate(lr_original_predictions)\n",
    "nb_acc = acc_evaluator.evaluate(nb_original_predictions)\n",
    "\n",
    "print('-'*40)\n",
    "print('Decision tree has an accuracy of: {0:2.2f}%'.format(dtc_acc*100))\n",
    "print('-'*40)\n",
    "print('Random forest ensemble has an accuracy of: {0:2.2f}%'.format(rfc_acc*100))\n",
    "print('-'*40)\n",
    "print(' LR has an accuracy of: {0:2.2f}%'.format(lr_acc*100))\n",
    "print('-'*40)\n",
    "print(' NB has an accuracy of: {0:2.2f}%'.format(nb_acc*100))"
   ]
  },
  {
   "cell_type": "markdown",
   "metadata": {},
   "source": [
    "参数选择，模型构建"
   ]
  },
  {
   "cell_type": "code",
   "execution_count": 8,
   "metadata": {},
   "outputs": [
    {
     "name": "stdout",
     "output_type": "stream",
     "text": [
      "({Param(parent='LogisticRegression_46289eecd75407e142c3', name='regParam', doc='regularization parameter (>= 0).'): 0.0001}, 0.9666891538602066)\n"
     ]
    }
   ],
   "source": [
    "from pyspark.ml.evaluation import BinaryClassificationEvaluator\n",
    "from pyspark.ml.tuning import CrossValidator, ParamGridBuilder\n",
    "from pyspark.ml import Pipeline\n",
    "\n",
    "lr = LogisticRegression(maxIter=10)\n",
    "pipeline = Pipeline(stages=[lr])\n",
    "\n",
    "paramGrid = ParamGridBuilder().addGrid(lr.regParam,[0.0001, 0.001, 0.01, 0.1, 0.25, 0.5, 0.75, 1]).build()\n",
    "\n",
    "crossval = CrossValidator(estimator=pipeline,\n",
    "                          estimatorParamMaps=paramGrid,\n",
    "                          evaluator=BinaryClassificationEvaluator(),\n",
    "                          numFolds=10)  \n",
    "\n",
    "lr_best_model = crossval.fit(train_data)\n",
    "params = lr_best_model.getEstimatorParamMaps()\n",
    "avgMetrics = lr_best_model.avgMetrics\n",
    "all_params = list(zip(params, avgMetrics))\n",
    "best_param = sorted(all_params, key=lambda x: x[1], reverse=True)[0]\n",
    "\n",
    "print(best_param)\n"
   ]
  },
  {
   "cell_type": "code",
   "execution_count": 9,
   "metadata": {},
   "outputs": [
    {
     "name": "stdout",
     "output_type": "stream",
     "text": [
      "({Param(parent='DecisionTreeClassifier_487a8068b8615b71ba9c', name='minInfoGain', doc='Minimum information gain for a split to be considered at a tree node.'): 0, Param(parent='DecisionTreeClassifier_487a8068b8615b71ba9c', name='maxDepth', doc='Maximum depth of the tree. (>= 0) E.g., depth 0 means 1 leaf node; depth 1 means 1 internal node + 2 leaf nodes.'): 5}, 0.9359951834491308)\n"
     ]
    }
   ],
   "source": [
    "dtc = DecisionTreeClassifier()\n",
    "pipeline = Pipeline(stages=[dtc])\n",
    "paramGrid = ParamGridBuilder().addGrid(dtc.maxDepth,[5, 10]).addGrid(dtc.minInfoGain,[0,0.1,0.5,0.8, 1]).build()\n",
    "\n",
    "crossval = CrossValidator(estimator=pipeline,\n",
    "                          estimatorParamMaps=paramGrid,\n",
    "                          evaluator=BinaryClassificationEvaluator(),\n",
    "                          numFolds=10)  \n",
    "\n",
    "dtc_best_Model = crossval.fit(train_data)\n",
    "\n",
    "\n",
    "params = dtc_best_Model.getEstimatorParamMaps()\n",
    "avgMetrics = dtc_best_Model.avgMetrics\n",
    "all_params = list(zip(params, avgMetrics))\n",
    "best_param = sorted(all_params, key=lambda x: x[1], reverse=True)[0]\n",
    "\n",
    "print(best_param)\n",
    "\n"
   ]
  },
  {
   "cell_type": "code",
   "execution_count": 10,
   "metadata": {},
   "outputs": [
    {
     "name": "stdout",
     "output_type": "stream",
     "text": [
      "({Param(parent='DecisionTreeClassifier_487a8068b8615b71ba9c', name='minInfoGain', doc='Minimum information gain for a split to be considered at a tree node.'): 0, Param(parent='DecisionTreeClassifier_487a8068b8615b71ba9c', name='maxDepth', doc='Maximum depth of the tree. (>= 0) E.g., depth 0 means 1 leaf node; depth 1 means 1 internal node + 2 leaf nodes.'): 5}, 0.9814806442438021)\n"
     ]
    }
   ],
   "source": [
    "rfc = RandomForestClassifier(numTrees=10)\n",
    "pipeline = Pipeline(stages=[rfc])\n",
    "paramGrid = ParamGridBuilder().addGrid(dtc.maxDepth,[5, 10]).addGrid(dtc.minInfoGain,[0,0.1,0.5,0.8, 1]).build()\n",
    "\n",
    "crossval = CrossValidator(estimator=pipeline,\n",
    "                          estimatorParamMaps=paramGrid,\n",
    "                          evaluator=BinaryClassificationEvaluator(),\n",
    "                          numFolds=10)  \n",
    "\n",
    "rfc_best_Model = crossval.fit(train_data)\n",
    "\n",
    "\n",
    "params = rfc_best_Model.getEstimatorParamMaps()\n",
    "avgMetrics = rfc_best_Model.avgMetrics\n",
    "all_params = list(zip(params, avgMetrics))\n",
    "best_param = sorted(all_params, key=lambda x: x[1], reverse=True)[0]\n",
    "\n",
    "print(best_param)\n",
    "\n"
   ]
  },
  {
   "cell_type": "code",
   "execution_count": 11,
   "metadata": {},
   "outputs": [
    {
     "name": "stdout",
     "output_type": "stream",
     "text": [
      "({Param(parent='NaiveBayes_4242ba62a975dd0e1526', name='smoothing', doc='The smoothing parameter, should be >= 0, default is 1.0'): 5}, 0.1508815150920414)\n"
     ]
    }
   ],
   "source": [
    "nb = NaiveBayes()\n",
    "pipeline = Pipeline(stages=[nb])\n",
    "paramGrid = ParamGridBuilder().addGrid(nb.smoothing,[1,3,5,8, 10,15]).build()\n",
    "\n",
    "crossval = CrossValidator(estimator=pipeline,\n",
    "                          estimatorParamMaps=paramGrid,\n",
    "                          evaluator=BinaryClassificationEvaluator(),\n",
    "                          numFolds=10)  \n",
    "\n",
    "nb_best_Model = crossval.fit(train_data)\n",
    "\n",
    "\n",
    "params = nb_best_Model.getEstimatorParamMaps()\n",
    "avgMetrics = nb_best_Model.avgMetrics\n",
    "all_params = list(zip(params, avgMetrics))\n",
    "best_param = sorted(all_params, key=lambda x: x[1], reverse=True)[0]\n",
    "\n",
    "print(best_param)\n"
   ]
  },
  {
   "cell_type": "markdown",
   "metadata": {},
   "source": [
    "参数选择后的模型进行评分"
   ]
  },
  {
   "cell_type": "code",
   "execution_count": 12,
   "metadata": {},
   "outputs": [
    {
     "name": "stdout",
     "output_type": "stream",
     "text": [
      "DTC_best\n",
      "0.9406147875816994\n",
      "RFC_best\n",
      "0.9661968954248367\n",
      "LR_best\n",
      "0.9463848039215675\n",
      "NB_best\n",
      "0.19638480392156862\n",
      "----------------------------------------\n",
      "A single decision tree has an accuracy of: 91.71%\n",
      "----------------------------------------\n",
      "A random forest ensemble has an accuracy of: 93.55%\n",
      "----------------------------------------\n",
      "An ensemble using LR has an accuracy of: 90.32%\n",
      "----------------------------------------\n",
      "An ensemble using NB has an accuracy of: 75.12%\n"
     ]
    }
   ],
   "source": [
    "lr_best_predictions=lr_best_model.transform(test_data)\n",
    "rfc_best_predictions=rfc_best_Model.transform(test_data)\n",
    "dtc_best_predictions=dtc_best_Model.transform(test_data)\n",
    "nb_best_predictions=nb_best_Model.transform(test_data)\n",
    "\n",
    "my_binary_eval = BinaryClassificationEvaluator()\n",
    "\n",
    "print(\"DTC_best\")\n",
    "print(my_binary_eval.evaluate(dtc_best_predictions))\n",
    "\n",
    "\n",
    "print(\"RFC_best\")\n",
    "print(my_binary_eval.evaluate(rfc_best_predictions))\n",
    "\n",
    "print(\"LR_best\")\n",
    "print(my_binary_eval.evaluate(lr_best_predictions))\n",
    "\n",
    "print(\"NB_best\")\n",
    "print(my_binary_eval.evaluate(nb_best_predictions))\n",
    "\n",
    "dtc_acc = acc_evaluator.evaluate(dtc_best_predictions)\n",
    "rfc_acc = acc_evaluator.evaluate(rfc_best_predictions)\n",
    "lr_acc = acc_evaluator.evaluate(lr_best_predictions)\n",
    "nb_acc = acc_evaluator.evaluate(nb_best_predictions)\n",
    "\n",
    "print('-'*40)\n",
    "print('A single decision tree has an accuracy of: {0:2.2f}%'.format(dtc_acc*100))\n",
    "print('-'*40)\n",
    "print('A random forest ensemble has an accuracy of: {0:2.2f}%'.format(rfc_acc*100))\n",
    "print('-'*40)\n",
    "print('An ensemble using LR has an accuracy of: {0:2.2f}%'.format(lr_acc*100))\n",
    "print('-'*40)\n",
    "print('An ensemble using NB has an accuracy of: {0:2.2f}%'.format(nb_acc*100))"
   ]
  },
  {
   "cell_type": "code",
   "execution_count": 54,
   "metadata": {},
   "outputs": [],
   "source": [
    "from pyspark.ml.evaluation import MulticlassClassificationEvaluator\n",
    "from pyspark.mllib.evaluation import MulticlassMetrics\n",
    "from pyspark.mllib.evaluation import BinaryClassificationMetrics\n",
    "import matplotlib.pyplot as plt\n",
    "def evaluate(predictionAndLabels):\n",
    "    log = {}\n",
    "\n",
    "    # Show Validation Score (AUROC)\n",
    "    evaluator = BinaryClassificationEvaluator(metricName='areaUnderROC')\n",
    "    log['AUROC'] = \"%f\" % evaluator.evaluate(predictionAndLabels)    \n",
    "    print(\"Area under ROC = {}\".format(log['AUROC']))\n",
    "\n",
    "    # Show Validation Score (AUPR)\n",
    "    evaluator = BinaryClassificationEvaluator(metricName='areaUnderPR')\n",
    "    log['AUPR'] = \"%f\" % evaluator.evaluate(predictionAndLabels)\n",
    "    print(\"Area under PR = {}\".format(log['AUPR']))\n",
    "\n",
    "    # Metrics\n",
    "    predictionRDD = predictionAndLabels.select(['label', 'prediction']) .rdd.map(lambda line: (line[1], line[0]))\n",
    "    metrics = MulticlassMetrics(predictionRDD)\n",
    "\n",
    "    # Confusion Matrix\n",
    "    print(metrics.confusionMatrix().toArray())\n",
    "\n",
    "    # Overall statistics\n",
    "    log['precision'] = \"%s\" % metrics.precision()\n",
    "    log['recall'] = \"%s\" % metrics.recall()\n",
    "    log['F1 Measure'] = \"%s\" % metrics.fMeasure()\n",
    "    print(\"[Overall]\\tprecision = %s | recall = %s | F1 Measure = %s\" % (log['precision'], log['recall'], log['F1 Measure']))\n",
    "\n",
    "    # Statistics by class\n",
    "    labels = [0.0, 1.0]\n",
    "    for label in sorted(labels):\n",
    "        log[label] = {}\n",
    "        log[label]['precision'] = \"%s\" % metrics.precision(label)\n",
    "        log[label]['recall'] = \"%s\" % metrics.recall(label)\n",
    "        log[label]['F1 Measure'] = \"%s\" % metrics.fMeasure(label, \n",
    "                                                           beta=1.0)\n",
    "        print(\"[Class %s]\\tprecision = %s | recall = %s | F1 Measure = %s\" % (label, log[label]['precision'], log[label]['recall'], log[label]['F1 Measure']))\n",
    "\n",
    "    return log\n",
    "\n",
    "def drawcrue(roc,recall,precision,AUROC,AUPR):\n",
    "    plt.plot(recall, precision, 'k')\n",
    "    plt.title('PR curve')\n",
    "    plt.plot([(0, 0), (1, 1)], 'r--')\n",
    "    plt.xlim([-0.01, 1.01])\n",
    "    plt.ylim([-0.01, 01.01])\n",
    "    plt.text(0.5,0.1,'Area under PR = '+ AUPR,bbox=dict(boxstyle=\"round\",ec=(1., 0.5, 0.5),fc=(1., 0.8, 0.8),))\n",
    "    plt.ylabel('Precision')\n",
    "    plt.xlabel('Recall')\n",
    "    plt.show()\n",
    "\n",
    "\n",
    "    plt.figure()\n",
    "    x_val = [x[0] for x in roc]\n",
    "    y_val = [x[1] for x in roc]\n",
    "    plt.title('ROC curve')\n",
    "    plt.xlabel('False posibality rate')\n",
    "    plt.ylabel('True posibality rate')\n",
    "    plt.plot(x_val, y_val)\n",
    "    plt.text(0.5,0.1,'Area under ROC = '+ AUROC,bbox=dict(boxstyle=\"round\",ec=(1., 0.5, 0.5),fc=(1., 0.8, 0.8),))\n",
    "    plt.plot([(0,0),(1,1)],'r--')\n",
    "    plt.show()\n",
    "\n",
    "class CurveMetrics(BinaryClassificationMetrics):\n",
    "    def __init__(self, *args):\n",
    "        super(CurveMetrics, self).__init__(*args)\n",
    "    def _to_list(self, rdd):\n",
    "        points = []\n",
    "        for row in rdd.collect():\n",
    "            points += [(float(row._1()), float(row._2()))]\n",
    "        return points\n",
    "    def get_curve(self, method):\n",
    "        rdd = getattr(self._java_model, method)().toJavaRDD()\n",
    "        return self._to_list(rdd)  \n",
    "\n"
   ]
  },
  {
   "cell_type": "code",
   "execution_count": null,
   "metadata": {},
   "outputs": [
    {
     "name": "stdout",
     "output_type": "stream",
     "text": [
      "LR model metrics\n",
      "Area under ROC = 0.946385\n",
      "Area under PR = 0.892602\n",
      "[[146.   7.]\n",
      " [ 14.  50.]]\n",
      "[Overall]\tprecision = 0.9032258064516129 | recall = 0.9032258064516129 | F1 Measure = 0.9032258064516129\n",
      "[Class 0.0]\tprecision = 0.9125 | recall = 0.954248366013072 | F1 Measure = 0.9329073482428115\n",
      "[Class 1.0]\tprecision = 0.8771929824561403 | recall = 0.78125 | F1 Measure = 0.8264462809917354\n"
     ]
    },
    {
     "name": "stderr",
     "output_type": "stream",
     "text": [
      "/home/ubuntu/spark-2.1.1-bin-hadoop2.7/python/pyspark/mllib/evaluation.py:237: UserWarning: Deprecated in 2.0.0. Use accuracy.\n",
      "  warnings.warn(\"Deprecated in 2.0.0. Use accuracy.\")\n",
      "/home/ubuntu/spark-2.1.1-bin-hadoop2.7/python/pyspark/mllib/evaluation.py:249: UserWarning: Deprecated in 2.0.0. Use accuracy.\n",
      "  warnings.warn(\"Deprecated in 2.0.0. Use accuracy.\")\n",
      "/home/ubuntu/spark-2.1.1-bin-hadoop2.7/python/pyspark/mllib/evaluation.py:262: UserWarning: Deprecated in 2.0.0. Use accuracy.\n",
      "  warnings.warn(\"Deprecated in 2.0.0. Use accuracy.\")\n"
     ]
    }
   ],
   "source": [
    "print(\"LR model metrics\")\n",
    "lr_log = evaluate(lr_best_predictions)\n",
    "\n",
    "preds = lr_best_predictions.select('label','probability').rdd.map(lambda row: (float(row['probability'][1]), float(row['label'])))\n",
    "roc = CurveMetrics(preds).get_curve('roc')\n",
    "metrics = CurveMetrics(preds)\n",
    "f1_score = metrics.get_curve('fMeasureByThreshold')\n",
    "precision = metrics.get_curve('precisionByThreshold')\n",
    "recall = metrics.get_curve('recallByThreshold')\n",
    "lr_under_roc = lr_log['AUROC']\n",
    "lr_under_pr = lr_log['AUPR']\n",
    "\n",
    "print(\"DTC model metrics\")\n",
    "dtc_log = evaluate(dtc_best_predictions)\n",
    "\n",
    "preds = dtc_best_predictions.select('label','probability').rdd.map(lambda row: (float(row['probability'][1]), float(row['label'])))\n",
    "roc = CurveMetrics(preds).get_curve('roc')\n",
    "metrics = CurveMetrics(preds)\n",
    "f1_score = metrics.get_curve('fMeasureByThreshold')\n",
    "precision = metrics.get_curve('precisionByThreshold')\n",
    "recall = metrics.get_curve('recallByThreshold')\n",
    "\n",
    "dtc_under_roc = dtc_log['AUROC']\n",
    "dtc_under_pr = dtc_log['AUPR']\n",
    "\n",
    "print(\"RF model metrics\")\n",
    "rfc_log = evaluate(rfc_best_predictions)\n",
    "\n",
    "preds = rfc_best_predictions.select('label','probability').rdd.map(lambda row: (float(row['probability'][1]), float(row['label'])))\n",
    "roc = CurveMetrics(preds).get_curve('roc')\n",
    "metrics = CurveMetrics(preds)\n",
    "f1_score = metrics.get_curve('fMeasureByThreshold')\n",
    "precision = metrics.get_curve('precisionByThreshold')\n",
    "recall = metrics.get_curve('recallByThreshold')\n",
    "\n",
    "rfc_under_roc = rfc_log['AUROC']\n",
    "rfc_under_pr = rfc_log['AUPR']\n",
    "\n",
    "print(\"NB model metrics\")\n",
    "nb_log = evaluate(nb_best_predictions)\n",
    "\n",
    "preds = nb_best_predictions.select('label','probability').rdd.map(lambda row: (float(row['probability'][1]), float(row['label'])))\n",
    "roc = CurveMetrics(preds).get_curve('roc')\n",
    "metrics = CurveMetrics(preds)\n",
    "f1_score = metrics.get_curve('fMeasureByThreshold')\n",
    "precision = metrics.get_curve('precisionByThreshold')\n",
    "recall = metrics.get_curve('recallByThreshold')\n",
    "\n",
    "lr_under_roc = nb_log['AUROC']\n",
    "lr_under_pr = n_log['AUPR']"
   ]
  },
  {
   "cell_type": "code",
   "execution_count": 52,
   "metadata": {},
   "outputs": [
    {
     "data": {
      "image/png": "[encoded data removed]",
      "text/plain": [
       "<Figure size 432x288 with 1 Axes>"
      ]
     },
     "metadata": {},
     "output_type": "display_data"
    },
    {
     "data": {
      "text/plain": [
       "[<matplotlib.lines.Line2D at 0x7fe664671860>,\n",
       " <matplotlib.lines.Line2D at 0x7fe66467f5c0>]"
      ]
     },
     "execution_count": 52,
     "metadata": {},
     "output_type": "execute_result"
    },
    {
     "data": {
      "image/png": "[encoded data removed]",
      "text/plain": [
       "<Figure size 432x288 with 1 Axes>"
      ]
     },
     "metadata": {},
     "output_type": "display_data"
    }
   ],
   "source": [
    "\n",
    "\n",
    "\n",
    "\n"
   ]
  },
  {
   "cell_type": "code",
   "execution_count": null,
   "metadata": {},
   "outputs": [],
   "source": []
  }
 ],
 "metadata": {
  "kernelspec": {
   "display_name": "Python 3",
   "language": "python",
   "name": "python3"
  },
  "language_info": {
   "codemirror_mode": {
    "name": "ipython",
    "version": 3
   },
   "file_extension": ".py",
   "mimetype": "text/x-python",
   "name": "python",
   "nbconvert_exporter": "python",
   "pygments_lexer": "ipython3",
   "version": "3.5.2"
  }
 },
 "nbformat": 4,
 "nbformat_minor": 2
}
